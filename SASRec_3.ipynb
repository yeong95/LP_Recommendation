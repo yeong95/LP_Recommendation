{
  "nbformat": 4,
  "nbformat_minor": 0,
  "metadata": {
    "colab": {
      "name": "SASRec_3.ipynb",
      "provenance": [],
      "collapsed_sections": [
        "1RsdlgTCuazo"
      ],
      "toc_visible": true,
      "mount_file_id": "1wYpZbLkGg4D2W8UrDWMFSjl2Mfi_Y63X",
      "authorship_tag": "ABX9TyMXOSjiUGPYuSJUF+IeuyUJ",
      "include_colab_link": true
    },
    "kernelspec": {
      "name": "python3",
      "display_name": "Python 3"
    },
    "accelerator": "GPU"
  },
  "cells": [
    {
      "cell_type": "markdown",
      "metadata": {
        "id": "view-in-github",
        "colab_type": "text"
      },
      "source": [
        "<a href=\"https://colab.research.google.com/github/yeong95/LP_Recommendation/blob/main/SASRec_3.ipynb\" target=\"_parent\"><img src=\"https://colab.research.google.com/assets/colab-badge.svg\" alt=\"Open In Colab\"/></a>"
      ]
    },
    {
      "cell_type": "markdown",
      "metadata": {
        "id": "SlRaomfEXb_G"
      },
      "source": [
        "# connect to github "
      ]
    },
    {
      "cell_type": "code",
      "metadata": {
        "colab": {
          "base_uri": "https://localhost:8080/"
        },
        "id": "WrLtfAxDXgNS",
        "outputId": "89ed698d-6687-4d50-d976-d2e90f8faa15"
      },
      "source": [
        "!pwd"
      ],
      "execution_count": 1,
      "outputs": [
        {
          "output_type": "stream",
          "text": [
            "/content\n"
          ],
          "name": "stdout"
        }
      ]
    },
    {
      "cell_type": "markdown",
      "metadata": {
        "id": "pE1yqdKkgfzo"
      },
      "source": [
        "# import module"
      ]
    },
    {
      "cell_type": "code",
      "metadata": {
        "id": "FnzJ46P90mCu",
        "colab": {
          "base_uri": "https://localhost:8080/"
        },
        "outputId": "6248eb7f-3d29-4639-bc1b-8b41d0d558e9"
      },
      "source": [
        "%tensorflow_version 1.12"
      ],
      "execution_count": null,
      "outputs": [
        {
          "output_type": "stream",
          "text": [
            "`%tensorflow_version` only switches the major version: 1.x or 2.x.\n",
            "You set: `1.12`. This will be interpreted as: `1.x`.\n",
            "\n",
            "\n",
            "TensorFlow 1.x selected.\n"
          ],
          "name": "stdout"
        }
      ]
    },
    {
      "cell_type": "code",
      "metadata": {
        "id": "fB-KdUvW5_7k",
        "colab": {
          "base_uri": "https://localhost:8080/",
          "height": 35
        },
        "outputId": "f6a49fcd-5ec0-4df4-f934-c3018536ce4f"
      },
      "source": [
        "import sys\n",
        "import pandas as pd\n",
        "import numpy as np\n",
        "sys.version"
      ],
      "execution_count": null,
      "outputs": [
        {
          "output_type": "execute_result",
          "data": {
            "application/vnd.google.colaboratory.intrinsic+json": {
              "type": "string"
            },
            "text/plain": [
              "'3.6.9 (default, Oct  8 2020, 12:12:24) \\n[GCC 8.4.0]'"
            ]
          },
          "metadata": {
            "tags": []
          },
          "execution_count": 2
        }
      ]
    },
    {
      "cell_type": "code",
      "metadata": {
        "id": "1HVjj_cq9wvj",
        "colab": {
          "base_uri": "https://localhost:8080/"
        },
        "outputId": "20faf64e-94e7-4bde-e68a-98ab1e10c883"
      },
      "source": [
        "from google.colab import drive\n",
        "drive.mount('/content/gdrive/')"
      ],
      "execution_count": null,
      "outputs": [
        {
          "output_type": "stream",
          "text": [
            "Mounted at /content/gdrive/\n"
          ],
          "name": "stdout"
        }
      ]
    },
    {
      "cell_type": "code",
      "metadata": {
        "id": "ZzIdgATHmOkV"
      },
      "source": [
        "sys.path.insert(0, \"/content/gdrive/My Drive/Sequential_Recommendation/models/SASRec\")\n",
        "sys.path.insert(0, \"/content/gdrive/My Drive/Sequential_Recommendation\")"
      ],
      "execution_count": null,
      "outputs": []
    },
    {
      "cell_type": "code",
      "metadata": {
        "id": "g58_DS4ulrn0"
      },
      "source": [
        "import os\n",
        "from tqdm import tqdm\n",
        "import pandas as pd\n",
        "import argparse\n",
        "sys.path.append(\"..\")\n",
        "\n",
        "os.environ[\"CUDA_VISIBLE_DEVICES\"]='0'   # 원래 코드는 1 \n",
        "import tensorflow as tf\n",
        "import numpy as np\n",
        "\n",
        "from model import Model\n",
        "from make_datasets_SASRec import make_datasets\n",
        "from DataInput_SASRec import DataIterator\n",
        "from evaluation import SortItemsbyScore,Metric_HR,Metric_MRR\n",
        "from modules import *\n",
        "from util import *\n",
        "import time"
      ],
      "execution_count": null,
      "outputs": []
    },
    {
      "cell_type": "markdown",
      "metadata": {
        "id": "yPwwgfutpAxn"
      },
      "source": [
        "#lpoint SASRec"
      ]
    },
    {
      "cell_type": "code",
      "metadata": {
        "id": "NVOnBiKcmvoi"
      },
      "source": [
        "def parse_args():\n",
        "    parser = argparse.ArgumentParser(description='SASRec')\n",
        "    parser.add_argument('--dataset', default='lpoint', type=str)\n",
        "    parser.add_argument('--train_dir', default='train', type=str)\n",
        "    parser.add_argument('--batch_size', default=128, type=int)\n",
        "    parser.add_argument('--lr', default=0.001, type=float)\n",
        "    parser.add_argument('--max_len', default=50, type=int)\n",
        "    parser.add_argument('--maxlen', default=50, type=int)\n",
        "    parser.add_argument('--hidden_units', default=50, type=int)\n",
        "    parser.add_argument('--num_blocks', default=2, type=int)\n",
        "    parser.add_argument('--num_epochs', default=201, type=int)\n",
        "    parser.add_argument('--num_heads', default=1, type=int)\n",
        "    parser.add_argument('--dropout_rate', default=0.5, type=float)\n",
        "    parser.add_argument('--l2_emb', default=0.0, type=float)\n",
        "    return parser.parse_args(args=[])\n"
      ],
      "execution_count": null,
      "outputs": []
    },
    {
      "cell_type": "code",
      "metadata": {
        "id": "oqb3UBmHm1av"
      },
      "source": [
        "args = parse_args()"
      ],
      "execution_count": null,
      "outputs": []
    },
    {
      "cell_type": "code",
      "metadata": {
        "id": "mnpXUssJnSsF"
      },
      "source": [
        "file_path = '/content/gdrive/MyDrive/Sequential_Recommendation/datasets/제6회 L.POINT Big Data Competition-분석용데이터-02.거래 정보.csv'\n",
        "data = pd.read_csv(file_path, encoding='utf-8')"
      ],
      "execution_count": null,
      "outputs": []
    },
    {
      "cell_type": "code",
      "metadata": {
        "colab": {
          "base_uri": "https://localhost:8080/",
          "height": 220
        },
        "id": "HgjnFrnq6RKY",
        "outputId": "00191a48-53a1-4982-fb91-cf2b25402ae7"
      },
      "source": [
        "data.head()"
      ],
      "execution_count": null,
      "outputs": [
        {
          "output_type": "execute_result",
          "data": {
            "text/html": [
              "<div>\n",
              "<style scoped>\n",
              "    .dataframe tbody tr th:only-of-type {\n",
              "        vertical-align: middle;\n",
              "    }\n",
              "\n",
              "    .dataframe tbody tr th {\n",
              "        vertical-align: top;\n",
              "    }\n",
              "\n",
              "    .dataframe thead th {\n",
              "        text-align: right;\n",
              "    }\n",
              "</style>\n",
              "<table border=\"1\" class=\"dataframe\">\n",
              "  <thead>\n",
              "    <tr style=\"text-align: right;\">\n",
              "      <th></th>\n",
              "      <th>clnt_id</th>\n",
              "      <th>trans_id</th>\n",
              "      <th>trans_seq</th>\n",
              "      <th>biz_unit</th>\n",
              "      <th>pd_c</th>\n",
              "      <th>de_dt</th>\n",
              "      <th>de_tm</th>\n",
              "      <th>buy_am</th>\n",
              "      <th>buy_ct</th>\n",
              "    </tr>\n",
              "  </thead>\n",
              "  <tbody>\n",
              "    <tr>\n",
              "      <th>0</th>\n",
              "      <td>21922</td>\n",
              "      <td>104999</td>\n",
              "      <td>1</td>\n",
              "      <td>A03</td>\n",
              "      <td>unknown</td>\n",
              "      <td>20190920</td>\n",
              "      <td>12:41</td>\n",
              "      <td>5990</td>\n",
              "      <td>1</td>\n",
              "    </tr>\n",
              "    <tr>\n",
              "      <th>1</th>\n",
              "      <td>21279</td>\n",
              "      <td>104907</td>\n",
              "      <td>4</td>\n",
              "      <td>A03</td>\n",
              "      <td>unknown</td>\n",
              "      <td>20190920</td>\n",
              "      <td>10:27</td>\n",
              "      <td>10900</td>\n",
              "      <td>1</td>\n",
              "    </tr>\n",
              "    <tr>\n",
              "      <th>2</th>\n",
              "      <td>39423</td>\n",
              "      <td>105124</td>\n",
              "      <td>11</td>\n",
              "      <td>A03</td>\n",
              "      <td>unknown</td>\n",
              "      <td>20190920</td>\n",
              "      <td>17:26</td>\n",
              "      <td>12900</td>\n",
              "      <td>1</td>\n",
              "    </tr>\n",
              "    <tr>\n",
              "      <th>3</th>\n",
              "      <td>18362</td>\n",
              "      <td>104010</td>\n",
              "      <td>1</td>\n",
              "      <td>A03</td>\n",
              "      <td>unknown</td>\n",
              "      <td>20190920</td>\n",
              "      <td>09:57</td>\n",
              "      <td>9900</td>\n",
              "      <td>1</td>\n",
              "    </tr>\n",
              "    <tr>\n",
              "      <th>4</th>\n",
              "      <td>39423</td>\n",
              "      <td>105124</td>\n",
              "      <td>13</td>\n",
              "      <td>A03</td>\n",
              "      <td>0565</td>\n",
              "      <td>20190920</td>\n",
              "      <td>17:26</td>\n",
              "      <td>2990</td>\n",
              "      <td>1</td>\n",
              "    </tr>\n",
              "  </tbody>\n",
              "</table>\n",
              "</div>"
            ],
            "text/plain": [
              "   clnt_id  trans_id  trans_seq biz_unit  ...     de_dt  de_tm buy_am  buy_ct\n",
              "0    21922    104999          1      A03  ...  20190920  12:41   5990       1\n",
              "1    21279    104907          4      A03  ...  20190920  10:27  10900       1\n",
              "2    39423    105124         11      A03  ...  20190920  17:26  12900       1\n",
              "3    18362    104010          1      A03  ...  20190920  09:57   9900       1\n",
              "4    39423    105124         13      A03  ...  20190920  17:26   2990       1\n",
              "\n",
              "[5 rows x 9 columns]"
            ]
          },
          "metadata": {
            "tags": []
          },
          "execution_count": 9
        }
      ]
    },
    {
      "cell_type": "code",
      "metadata": {
        "colab": {
          "base_uri": "https://localhost:8080/",
          "height": 431
        },
        "id": "Lc9MP2Rr9xBo",
        "outputId": "60747f58-f494-490c-c432-bca06618ca35"
      },
      "source": [
        "removed_data = data[~(data.pd_c == 'unknown')]\n",
        "removed_data"
      ],
      "execution_count": null,
      "outputs": [
        {
          "output_type": "execute_result",
          "data": {
            "text/html": [
              "<div>\n",
              "<style scoped>\n",
              "    .dataframe tbody tr th:only-of-type {\n",
              "        vertical-align: middle;\n",
              "    }\n",
              "\n",
              "    .dataframe tbody tr th {\n",
              "        vertical-align: top;\n",
              "    }\n",
              "\n",
              "    .dataframe thead th {\n",
              "        text-align: right;\n",
              "    }\n",
              "</style>\n",
              "<table border=\"1\" class=\"dataframe\">\n",
              "  <thead>\n",
              "    <tr style=\"text-align: right;\">\n",
              "      <th></th>\n",
              "      <th>clnt_id</th>\n",
              "      <th>trans_id</th>\n",
              "      <th>trans_seq</th>\n",
              "      <th>biz_unit</th>\n",
              "      <th>pd_c</th>\n",
              "      <th>de_dt</th>\n",
              "      <th>de_tm</th>\n",
              "      <th>buy_am</th>\n",
              "      <th>buy_ct</th>\n",
              "    </tr>\n",
              "  </thead>\n",
              "  <tbody>\n",
              "    <tr>\n",
              "      <th>4</th>\n",
              "      <td>39423</td>\n",
              "      <td>105124</td>\n",
              "      <td>13</td>\n",
              "      <td>A03</td>\n",
              "      <td>0565</td>\n",
              "      <td>20190920</td>\n",
              "      <td>17:26</td>\n",
              "      <td>2990</td>\n",
              "      <td>1</td>\n",
              "    </tr>\n",
              "    <tr>\n",
              "      <th>5</th>\n",
              "      <td>21279</td>\n",
              "      <td>104907</td>\n",
              "      <td>1</td>\n",
              "      <td>A03</td>\n",
              "      <td>0565</td>\n",
              "      <td>20190920</td>\n",
              "      <td>10:27</td>\n",
              "      <td>2990</td>\n",
              "      <td>1</td>\n",
              "    </tr>\n",
              "    <tr>\n",
              "      <th>6</th>\n",
              "      <td>48969</td>\n",
              "      <td>104882</td>\n",
              "      <td>5</td>\n",
              "      <td>A03</td>\n",
              "      <td>0572</td>\n",
              "      <td>20190920</td>\n",
              "      <td>10:05</td>\n",
              "      <td>7490</td>\n",
              "      <td>1</td>\n",
              "    </tr>\n",
              "    <tr>\n",
              "      <th>7</th>\n",
              "      <td>30533</td>\n",
              "      <td>103245</td>\n",
              "      <td>5</td>\n",
              "      <td>A03</td>\n",
              "      <td>0670</td>\n",
              "      <td>20190920</td>\n",
              "      <td>14:36</td>\n",
              "      <td>49800</td>\n",
              "      <td>1</td>\n",
              "    </tr>\n",
              "    <tr>\n",
              "      <th>8</th>\n",
              "      <td>64346</td>\n",
              "      <td>104317</td>\n",
              "      <td>1</td>\n",
              "      <td>A03</td>\n",
              "      <td>0543</td>\n",
              "      <td>20190920</td>\n",
              "      <td>22:34</td>\n",
              "      <td>26900</td>\n",
              "      <td>1</td>\n",
              "    </tr>\n",
              "    <tr>\n",
              "      <th>...</th>\n",
              "      <td>...</td>\n",
              "      <td>...</td>\n",
              "      <td>...</td>\n",
              "      <td>...</td>\n",
              "      <td>...</td>\n",
              "      <td>...</td>\n",
              "      <td>...</td>\n",
              "      <td>...</td>\n",
              "      <td>...</td>\n",
              "    </tr>\n",
              "    <tr>\n",
              "      <th>599956</th>\n",
              "      <td>35311</td>\n",
              "      <td>2839</td>\n",
              "      <td>3</td>\n",
              "      <td>B03</td>\n",
              "      <td>0339</td>\n",
              "      <td>20190927</td>\n",
              "      <td>14:09</td>\n",
              "      <td>3500</td>\n",
              "      <td>1</td>\n",
              "    </tr>\n",
              "    <tr>\n",
              "      <th>599957</th>\n",
              "      <td>35311</td>\n",
              "      <td>2839</td>\n",
              "      <td>4</td>\n",
              "      <td>B03</td>\n",
              "      <td>0339</td>\n",
              "      <td>20190927</td>\n",
              "      <td>14:09</td>\n",
              "      <td>3600</td>\n",
              "      <td>2</td>\n",
              "    </tr>\n",
              "    <tr>\n",
              "      <th>599958</th>\n",
              "      <td>35311</td>\n",
              "      <td>2839</td>\n",
              "      <td>5</td>\n",
              "      <td>B03</td>\n",
              "      <td>0339</td>\n",
              "      <td>20190927</td>\n",
              "      <td>14:09</td>\n",
              "      <td>3500</td>\n",
              "      <td>1</td>\n",
              "    </tr>\n",
              "    <tr>\n",
              "      <th>599959</th>\n",
              "      <td>35311</td>\n",
              "      <td>2839</td>\n",
              "      <td>2</td>\n",
              "      <td>B03</td>\n",
              "      <td>0339</td>\n",
              "      <td>20190927</td>\n",
              "      <td>14:09</td>\n",
              "      <td>4500</td>\n",
              "      <td>1</td>\n",
              "    </tr>\n",
              "    <tr>\n",
              "      <th>599960</th>\n",
              "      <td>35311</td>\n",
              "      <td>2839</td>\n",
              "      <td>6</td>\n",
              "      <td>B03</td>\n",
              "      <td>0324</td>\n",
              "      <td>20190927</td>\n",
              "      <td>14:09</td>\n",
              "      <td>6800</td>\n",
              "      <td>1</td>\n",
              "    </tr>\n",
              "  </tbody>\n",
              "</table>\n",
              "<p>582309 rows × 9 columns</p>\n",
              "</div>"
            ],
            "text/plain": [
              "        clnt_id  trans_id  trans_seq biz_unit  ...     de_dt  de_tm buy_am  buy_ct\n",
              "4         39423    105124         13      A03  ...  20190920  17:26   2990       1\n",
              "5         21279    104907          1      A03  ...  20190920  10:27   2990       1\n",
              "6         48969    104882          5      A03  ...  20190920  10:05   7490       1\n",
              "7         30533    103245          5      A03  ...  20190920  14:36  49800       1\n",
              "8         64346    104317          1      A03  ...  20190920  22:34  26900       1\n",
              "...         ...       ...        ...      ...  ...       ...    ...    ...     ...\n",
              "599956    35311      2839          3      B03  ...  20190927  14:09   3500       1\n",
              "599957    35311      2839          4      B03  ...  20190927  14:09   3600       2\n",
              "599958    35311      2839          5      B03  ...  20190927  14:09   3500       1\n",
              "599959    35311      2839          2      B03  ...  20190927  14:09   4500       1\n",
              "599960    35311      2839          6      B03  ...  20190927  14:09   6800       1\n",
              "\n",
              "[582309 rows x 9 columns]"
            ]
          },
          "metadata": {
            "tags": []
          },
          "execution_count": 10
        }
      ]
    },
    {
      "cell_type": "code",
      "metadata": {
        "id": "IKFlCsiI-5-m"
      },
      "source": [
        "removed_data = removed_data[~(removed_data.buy_ct == 0)]"
      ],
      "execution_count": null,
      "outputs": []
    },
    {
      "cell_type": "code",
      "metadata": {
        "id": "EC8pxPhn_ImE"
      },
      "source": [
        "removed_data = removed_data.sort_values(by=['trans_id','trans_seq'])"
      ],
      "execution_count": null,
      "outputs": []
    },
    {
      "cell_type": "code",
      "metadata": {
        "colab": {
          "base_uri": "https://localhost:8080/",
          "height": 220
        },
        "id": "zUtaYNIB_eMw",
        "outputId": "244c5433-9ea1-4b51-ba9f-a4b1086026e8"
      },
      "source": [
        "removed_data.head()"
      ],
      "execution_count": null,
      "outputs": [
        {
          "output_type": "execute_result",
          "data": {
            "text/html": [
              "<div>\n",
              "<style scoped>\n",
              "    .dataframe tbody tr th:only-of-type {\n",
              "        vertical-align: middle;\n",
              "    }\n",
              "\n",
              "    .dataframe tbody tr th {\n",
              "        vertical-align: top;\n",
              "    }\n",
              "\n",
              "    .dataframe thead th {\n",
              "        text-align: right;\n",
              "    }\n",
              "</style>\n",
              "<table border=\"1\" class=\"dataframe\">\n",
              "  <thead>\n",
              "    <tr style=\"text-align: right;\">\n",
              "      <th></th>\n",
              "      <th>clnt_id</th>\n",
              "      <th>trans_id</th>\n",
              "      <th>trans_seq</th>\n",
              "      <th>biz_unit</th>\n",
              "      <th>pd_c</th>\n",
              "      <th>de_dt</th>\n",
              "      <th>de_tm</th>\n",
              "      <th>buy_am</th>\n",
              "      <th>buy_ct</th>\n",
              "    </tr>\n",
              "  </thead>\n",
              "  <tbody>\n",
              "    <tr>\n",
              "      <th>478560</th>\n",
              "      <td>47617</td>\n",
              "      <td>1</td>\n",
              "      <td>1</td>\n",
              "      <td>B01</td>\n",
              "      <td>0897</td>\n",
              "      <td>20190702</td>\n",
              "      <td>21:19</td>\n",
              "      <td>20640</td>\n",
              "      <td>3</td>\n",
              "    </tr>\n",
              "    <tr>\n",
              "      <th>478481</th>\n",
              "      <td>47617</td>\n",
              "      <td>1</td>\n",
              "      <td>2</td>\n",
              "      <td>B01</td>\n",
              "      <td>0548</td>\n",
              "      <td>20190702</td>\n",
              "      <td>21:19</td>\n",
              "      <td>14980</td>\n",
              "      <td>1</td>\n",
              "    </tr>\n",
              "    <tr>\n",
              "      <th>478503</th>\n",
              "      <td>47617</td>\n",
              "      <td>1</td>\n",
              "      <td>3</td>\n",
              "      <td>B01</td>\n",
              "      <td>0894</td>\n",
              "      <td>20190702</td>\n",
              "      <td>21:19</td>\n",
              "      <td>25900</td>\n",
              "      <td>1</td>\n",
              "    </tr>\n",
              "    <tr>\n",
              "      <th>478521</th>\n",
              "      <td>47617</td>\n",
              "      <td>1</td>\n",
              "      <td>4</td>\n",
              "      <td>B01</td>\n",
              "      <td>1447</td>\n",
              "      <td>20190702</td>\n",
              "      <td>21:19</td>\n",
              "      <td>5490</td>\n",
              "      <td>1</td>\n",
              "    </tr>\n",
              "    <tr>\n",
              "      <th>478543</th>\n",
              "      <td>47617</td>\n",
              "      <td>1</td>\n",
              "      <td>5</td>\n",
              "      <td>B01</td>\n",
              "      <td>1529</td>\n",
              "      <td>20190702</td>\n",
              "      <td>21:19</td>\n",
              "      <td>5900</td>\n",
              "      <td>1</td>\n",
              "    </tr>\n",
              "  </tbody>\n",
              "</table>\n",
              "</div>"
            ],
            "text/plain": [
              "        clnt_id  trans_id  trans_seq biz_unit  ...     de_dt  de_tm buy_am  buy_ct\n",
              "478560    47617         1          1      B01  ...  20190702  21:19  20640       3\n",
              "478481    47617         1          2      B01  ...  20190702  21:19  14980       1\n",
              "478503    47617         1          3      B01  ...  20190702  21:19  25900       1\n",
              "478521    47617         1          4      B01  ...  20190702  21:19   5490       1\n",
              "478543    47617         1          5      B01  ...  20190702  21:19   5900       1\n",
              "\n",
              "[5 rows x 9 columns]"
            ]
          },
          "metadata": {
            "tags": []
          },
          "execution_count": 13
        }
      ]
    },
    {
      "cell_type": "code",
      "metadata": {
        "id": "g1hMJgb-AmWY"
      },
      "source": [
        "removed_data = removed_data.astype({'pd_c':'int'})"
      ],
      "execution_count": null,
      "outputs": []
    },
    {
      "cell_type": "code",
      "metadata": {
        "colab": {
          "base_uri": "https://localhost:8080/",
          "height": 220
        },
        "id": "K8221qbJAz5E",
        "outputId": "9242260d-3537-4b02-d3da-c4f321be5226"
      },
      "source": [
        "removed_data.head()"
      ],
      "execution_count": null,
      "outputs": [
        {
          "output_type": "execute_result",
          "data": {
            "text/html": [
              "<div>\n",
              "<style scoped>\n",
              "    .dataframe tbody tr th:only-of-type {\n",
              "        vertical-align: middle;\n",
              "    }\n",
              "\n",
              "    .dataframe tbody tr th {\n",
              "        vertical-align: top;\n",
              "    }\n",
              "\n",
              "    .dataframe thead th {\n",
              "        text-align: right;\n",
              "    }\n",
              "</style>\n",
              "<table border=\"1\" class=\"dataframe\">\n",
              "  <thead>\n",
              "    <tr style=\"text-align: right;\">\n",
              "      <th></th>\n",
              "      <th>clnt_id</th>\n",
              "      <th>trans_id</th>\n",
              "      <th>trans_seq</th>\n",
              "      <th>biz_unit</th>\n",
              "      <th>pd_c</th>\n",
              "      <th>de_dt</th>\n",
              "      <th>de_tm</th>\n",
              "      <th>buy_am</th>\n",
              "      <th>buy_ct</th>\n",
              "    </tr>\n",
              "  </thead>\n",
              "  <tbody>\n",
              "    <tr>\n",
              "      <th>478560</th>\n",
              "      <td>47617</td>\n",
              "      <td>1</td>\n",
              "      <td>1</td>\n",
              "      <td>B01</td>\n",
              "      <td>897</td>\n",
              "      <td>20190702</td>\n",
              "      <td>21:19</td>\n",
              "      <td>20640</td>\n",
              "      <td>3</td>\n",
              "    </tr>\n",
              "    <tr>\n",
              "      <th>478481</th>\n",
              "      <td>47617</td>\n",
              "      <td>1</td>\n",
              "      <td>2</td>\n",
              "      <td>B01</td>\n",
              "      <td>548</td>\n",
              "      <td>20190702</td>\n",
              "      <td>21:19</td>\n",
              "      <td>14980</td>\n",
              "      <td>1</td>\n",
              "    </tr>\n",
              "    <tr>\n",
              "      <th>478503</th>\n",
              "      <td>47617</td>\n",
              "      <td>1</td>\n",
              "      <td>3</td>\n",
              "      <td>B01</td>\n",
              "      <td>894</td>\n",
              "      <td>20190702</td>\n",
              "      <td>21:19</td>\n",
              "      <td>25900</td>\n",
              "      <td>1</td>\n",
              "    </tr>\n",
              "    <tr>\n",
              "      <th>478521</th>\n",
              "      <td>47617</td>\n",
              "      <td>1</td>\n",
              "      <td>4</td>\n",
              "      <td>B01</td>\n",
              "      <td>1447</td>\n",
              "      <td>20190702</td>\n",
              "      <td>21:19</td>\n",
              "      <td>5490</td>\n",
              "      <td>1</td>\n",
              "    </tr>\n",
              "    <tr>\n",
              "      <th>478543</th>\n",
              "      <td>47617</td>\n",
              "      <td>1</td>\n",
              "      <td>5</td>\n",
              "      <td>B01</td>\n",
              "      <td>1529</td>\n",
              "      <td>20190702</td>\n",
              "      <td>21:19</td>\n",
              "      <td>5900</td>\n",
              "      <td>1</td>\n",
              "    </tr>\n",
              "  </tbody>\n",
              "</table>\n",
              "</div>"
            ],
            "text/plain": [
              "        clnt_id  trans_id  trans_seq biz_unit  ...     de_dt  de_tm buy_am  buy_ct\n",
              "478560    47617         1          1      B01  ...  20190702  21:19  20640       3\n",
              "478481    47617         1          2      B01  ...  20190702  21:19  14980       1\n",
              "478503    47617         1          3      B01  ...  20190702  21:19  25900       1\n",
              "478521    47617         1          4      B01  ...  20190702  21:19   5490       1\n",
              "478543    47617         1          5      B01  ...  20190702  21:19   5900       1\n",
              "\n",
              "[5 rows x 9 columns]"
            ]
          },
          "metadata": {
            "tags": []
          },
          "execution_count": 15
        }
      ]
    },
    {
      "cell_type": "code",
      "metadata": {
        "id": "YAlVfB9nkLOO"
      },
      "source": [
        "new_data = removed_data[['trans_id','trans_seq', 'pd_c']]"
      ],
      "execution_count": null,
      "outputs": []
    },
    {
      "cell_type": "code",
      "metadata": {
        "id": "nZBwzlFckj8g",
        "colab": {
          "base_uri": "https://localhost:8080/"
        },
        "outputId": "4f647f36-81fb-49c0-ddc6-a7235a99d86b"
      },
      "source": [
        "new_data.rename(columns={'trans_id':'user','trans_seq':'timestamps','pd_c':'item'}, inplace=True)"
      ],
      "execution_count": null,
      "outputs": [
        {
          "output_type": "stream",
          "text": [
            "/usr/local/lib/python3.6/dist-packages/pandas/core/frame.py:4308: SettingWithCopyWarning: \n",
            "A value is trying to be set on a copy of a slice from a DataFrame\n",
            "\n",
            "See the caveats in the documentation: https://pandas.pydata.org/pandas-docs/stable/user_guide/indexing.html#returning-a-view-versus-a-copy\n",
            "  errors=errors,\n"
          ],
          "name": "stderr"
        }
      ]
    },
    {
      "cell_type": "code",
      "metadata": {
        "colab": {
          "base_uri": "https://localhost:8080/",
          "height": 200
        },
        "id": "9NaqM7Lm5weS",
        "outputId": "7be5c065-d25e-411c-eb96-13fc8c830b31"
      },
      "source": [
        "new_data.head()"
      ],
      "execution_count": null,
      "outputs": [
        {
          "output_type": "execute_result",
          "data": {
            "text/html": [
              "<div>\n",
              "<style scoped>\n",
              "    .dataframe tbody tr th:only-of-type {\n",
              "        vertical-align: middle;\n",
              "    }\n",
              "\n",
              "    .dataframe tbody tr th {\n",
              "        vertical-align: top;\n",
              "    }\n",
              "\n",
              "    .dataframe thead th {\n",
              "        text-align: right;\n",
              "    }\n",
              "</style>\n",
              "<table border=\"1\" class=\"dataframe\">\n",
              "  <thead>\n",
              "    <tr style=\"text-align: right;\">\n",
              "      <th></th>\n",
              "      <th>user</th>\n",
              "      <th>timestamps</th>\n",
              "      <th>item</th>\n",
              "    </tr>\n",
              "  </thead>\n",
              "  <tbody>\n",
              "    <tr>\n",
              "      <th>478560</th>\n",
              "      <td>1</td>\n",
              "      <td>1</td>\n",
              "      <td>897</td>\n",
              "    </tr>\n",
              "    <tr>\n",
              "      <th>478481</th>\n",
              "      <td>1</td>\n",
              "      <td>2</td>\n",
              "      <td>548</td>\n",
              "    </tr>\n",
              "    <tr>\n",
              "      <th>478503</th>\n",
              "      <td>1</td>\n",
              "      <td>3</td>\n",
              "      <td>894</td>\n",
              "    </tr>\n",
              "    <tr>\n",
              "      <th>478521</th>\n",
              "      <td>1</td>\n",
              "      <td>4</td>\n",
              "      <td>1447</td>\n",
              "    </tr>\n",
              "    <tr>\n",
              "      <th>478543</th>\n",
              "      <td>1</td>\n",
              "      <td>5</td>\n",
              "      <td>1529</td>\n",
              "    </tr>\n",
              "  </tbody>\n",
              "</table>\n",
              "</div>"
            ],
            "text/plain": [
              "        user  timestamps  item\n",
              "478560     1           1   897\n",
              "478481     1           2   548\n",
              "478503     1           3   894\n",
              "478521     1           4  1447\n",
              "478543     1           5  1529"
            ]
          },
          "metadata": {
            "tags": []
          },
          "execution_count": 18
        }
      ]
    },
    {
      "cell_type": "code",
      "metadata": {
        "id": "Me7BwzNIgBZi"
      },
      "source": [
        "item_dataset = make_datasets(new_data, args.max_len)\n",
        "d_train, d_test, d_info = item_dataset"
      ],
      "execution_count": null,
      "outputs": []
    },
    {
      "cell_type": "code",
      "metadata": {
        "id": "wZvKX-xUiO43",
        "colab": {
          "base_uri": "https://localhost:8080/",
          "height": 200
        },
        "outputId": "f86bd63d-43da-4dd8-a7f8-09a3a8f2eae0"
      },
      "source": [
        "d_train.head()"
      ],
      "execution_count": null,
      "outputs": [
        {
          "output_type": "execute_result",
          "data": {
            "text/html": [
              "<div>\n",
              "<style scoped>\n",
              "    .dataframe tbody tr th:only-of-type {\n",
              "        vertical-align: middle;\n",
              "    }\n",
              "\n",
              "    .dataframe tbody tr th {\n",
              "        vertical-align: top;\n",
              "    }\n",
              "\n",
              "    .dataframe thead th {\n",
              "        text-align: right;\n",
              "    }\n",
              "</style>\n",
              "<table border=\"1\" class=\"dataframe\">\n",
              "  <thead>\n",
              "    <tr style=\"text-align: right;\">\n",
              "      <th></th>\n",
              "      <th>user</th>\n",
              "      <th>seq</th>\n",
              "      <th>target</th>\n",
              "    </tr>\n",
              "  </thead>\n",
              "  <tbody>\n",
              "    <tr>\n",
              "      <th>0</th>\n",
              "      <td>1</td>\n",
              "      <td>[0, 0, 0, 0, 0, 0, 0, 0, 0, 0, 0, 0, 0, 0, 0, ...</td>\n",
              "      <td>[0, 0, 0, 0, 0, 0, 0, 0, 0, 0, 0, 0, 0, 0, 0, ...</td>\n",
              "    </tr>\n",
              "    <tr>\n",
              "      <th>1</th>\n",
              "      <td>2</td>\n",
              "      <td>[0, 0, 0, 0, 0, 0, 0, 0, 0, 0, 0, 0, 0, 0, 0, ...</td>\n",
              "      <td>[0, 0, 0, 0, 0, 0, 0, 0, 0, 0, 0, 0, 0, 0, 0, ...</td>\n",
              "    </tr>\n",
              "    <tr>\n",
              "      <th>2</th>\n",
              "      <td>3</td>\n",
              "      <td>[0, 0, 0, 0, 0, 0, 0, 0, 0, 0, 0, 0, 0, 0, 0, ...</td>\n",
              "      <td>[0, 0, 0, 0, 0, 0, 0, 0, 0, 0, 0, 0, 0, 0, 0, ...</td>\n",
              "    </tr>\n",
              "    <tr>\n",
              "      <th>3</th>\n",
              "      <td>5</td>\n",
              "      <td>[0, 0, 0, 0, 0, 0, 0, 0, 0, 0, 0, 0, 0, 0, 0, ...</td>\n",
              "      <td>[0, 0, 0, 0, 0, 0, 0, 0, 0, 0, 0, 0, 0, 0, 0, ...</td>\n",
              "    </tr>\n",
              "    <tr>\n",
              "      <th>4</th>\n",
              "      <td>7</td>\n",
              "      <td>[0, 0, 0, 0, 0, 0, 0, 0, 0, 0, 0, 0, 0, 0, 0, ...</td>\n",
              "      <td>[0, 0, 0, 0, 0, 0, 0, 0, 0, 0, 0, 0, 0, 0, 0, ...</td>\n",
              "    </tr>\n",
              "  </tbody>\n",
              "</table>\n",
              "</div>"
            ],
            "text/plain": [
              "   user  ...                                             target\n",
              "0     1  ...  [0, 0, 0, 0, 0, 0, 0, 0, 0, 0, 0, 0, 0, 0, 0, ...\n",
              "1     2  ...  [0, 0, 0, 0, 0, 0, 0, 0, 0, 0, 0, 0, 0, 0, 0, ...\n",
              "2     3  ...  [0, 0, 0, 0, 0, 0, 0, 0, 0, 0, 0, 0, 0, 0, 0, ...\n",
              "3     5  ...  [0, 0, 0, 0, 0, 0, 0, 0, 0, 0, 0, 0, 0, 0, 0, ...\n",
              "4     7  ...  [0, 0, 0, 0, 0, 0, 0, 0, 0, 0, 0, 0, 0, 0, 0, ...\n",
              "\n",
              "[5 rows x 3 columns]"
            ]
          },
          "metadata": {
            "tags": []
          },
          "execution_count": 21
        }
      ]
    },
    {
      "cell_type": "code",
      "metadata": {
        "id": "CNQcqrzniQqi",
        "colab": {
          "base_uri": "https://localhost:8080/",
          "height": 200
        },
        "outputId": "4b34bbf1-4650-43cd-ba79-54e5429de46f"
      },
      "source": [
        "d_test.head()"
      ],
      "execution_count": null,
      "outputs": [
        {
          "output_type": "execute_result",
          "data": {
            "text/html": [
              "<div>\n",
              "<style scoped>\n",
              "    .dataframe tbody tr th:only-of-type {\n",
              "        vertical-align: middle;\n",
              "    }\n",
              "\n",
              "    .dataframe tbody tr th {\n",
              "        vertical-align: top;\n",
              "    }\n",
              "\n",
              "    .dataframe thead th {\n",
              "        text-align: right;\n",
              "    }\n",
              "</style>\n",
              "<table border=\"1\" class=\"dataframe\">\n",
              "  <thead>\n",
              "    <tr style=\"text-align: right;\">\n",
              "      <th></th>\n",
              "      <th>user</th>\n",
              "      <th>seq</th>\n",
              "      <th>target</th>\n",
              "    </tr>\n",
              "  </thead>\n",
              "  <tbody>\n",
              "    <tr>\n",
              "      <th>0</th>\n",
              "      <td>1</td>\n",
              "      <td>[0, 0, 0, 0, 0, 0, 0, 0, 0, 0, 0, 0, 0, 0, 0, ...</td>\n",
              "      <td>[6]</td>\n",
              "    </tr>\n",
              "    <tr>\n",
              "      <th>1</th>\n",
              "      <td>2</td>\n",
              "      <td>[0, 0, 0, 0, 0, 0, 0, 0, 0, 0, 0, 0, 0, 0, 0, ...</td>\n",
              "      <td>[3]</td>\n",
              "    </tr>\n",
              "    <tr>\n",
              "      <th>2</th>\n",
              "      <td>3</td>\n",
              "      <td>[0, 0, 0, 0, 0, 0, 0, 0, 0, 0, 0, 0, 0, 0, 0, ...</td>\n",
              "      <td>[14]</td>\n",
              "    </tr>\n",
              "    <tr>\n",
              "      <th>3</th>\n",
              "      <td>5</td>\n",
              "      <td>[0, 0, 0, 0, 0, 0, 0, 0, 0, 0, 0, 0, 0, 0, 0, ...</td>\n",
              "      <td>[6]</td>\n",
              "    </tr>\n",
              "    <tr>\n",
              "      <th>4</th>\n",
              "      <td>7</td>\n",
              "      <td>[0, 0, 0, 0, 0, 0, 0, 0, 0, 0, 0, 0, 0, 0, 0, ...</td>\n",
              "      <td>[19]</td>\n",
              "    </tr>\n",
              "  </tbody>\n",
              "</table>\n",
              "</div>"
            ],
            "text/plain": [
              "   user                                                seq target\n",
              "0     1  [0, 0, 0, 0, 0, 0, 0, 0, 0, 0, 0, 0, 0, 0, 0, ...    [6]\n",
              "1     2  [0, 0, 0, 0, 0, 0, 0, 0, 0, 0, 0, 0, 0, 0, 0, ...    [3]\n",
              "2     3  [0, 0, 0, 0, 0, 0, 0, 0, 0, 0, 0, 0, 0, 0, 0, ...   [14]\n",
              "3     5  [0, 0, 0, 0, 0, 0, 0, 0, 0, 0, 0, 0, 0, 0, 0, ...    [6]\n",
              "4     7  [0, 0, 0, 0, 0, 0, 0, 0, 0, 0, 0, 0, 0, 0, 0, ...   [19]"
            ]
          },
          "metadata": {
            "tags": []
          },
          "execution_count": 22
        }
      ]
    },
    {
      "cell_type": "code",
      "metadata": {
        "colab": {
          "base_uri": "https://localhost:8080/"
        },
        "id": "g-9PI6oFoDh_",
        "outputId": "4e812cea-b5d2-4a4e-e18d-0fe934d7c9c2"
      },
      "source": [
        "d_train[d_train.user == 100].seq.values"
      ],
      "execution_count": null,
      "outputs": [
        {
          "output_type": "execute_result",
          "data": {
            "text/plain": [
              "array([array([  0,   0,   0,   0,   0,   0,   0,   0,   0,   0,   0,   0,   0,\n",
              "         0,   0,   0,   0,   0,   0,   0,   0,   0,   0,   0,   0,   0,\n",
              "         0,   0,   0,   0,   0,   0,   0,   0,   0,   0,   0,   0, 176,\n",
              "         4,  37,  61, 214, 214,  95,  96, 207, 215, 216,  68], dtype=int32)],\n",
              "      dtype=object)"
            ]
          },
          "metadata": {
            "tags": []
          },
          "execution_count": 23
        }
      ]
    },
    {
      "cell_type": "code",
      "metadata": {
        "id": "HENuXoBhoPQw",
        "colab": {
          "base_uri": "https://localhost:8080/"
        },
        "outputId": "35eb49a6-99ed-45c4-fbea-2803ddc9eb5c"
      },
      "source": [
        "d_train[d_train.user == 100].target.values"
      ],
      "execution_count": null,
      "outputs": [
        {
          "output_type": "execute_result",
          "data": {
            "text/plain": [
              "array([array([  0,   0,   0,   0,   0,   0,   0,   0,   0,   0,   0,   0,   0,\n",
              "         0,   0,   0,   0,   0,   0,   0,   0,   0,   0,   0,   0,   0,\n",
              "         0,   0,   0,   0,   0,   0,   0,   0,   0,   0,   0,   0,   4,\n",
              "        37,  61, 214, 214,  95,  96, 207, 215, 216,  68, 213], dtype=int32)],\n",
              "      dtype=object)"
            ]
          },
          "metadata": {
            "tags": []
          },
          "execution_count": 24
        }
      ]
    },
    {
      "cell_type": "code",
      "metadata": {
        "colab": {
          "base_uri": "https://localhost:8080/"
        },
        "id": "zedwd_AxoJAa",
        "outputId": "d8f0b958-4fd8-4fbc-be5c-9764096fbddc"
      },
      "source": [
        "d_test[d_test.user == 100].seq.values"
      ],
      "execution_count": null,
      "outputs": [
        {
          "output_type": "execute_result",
          "data": {
            "text/plain": [
              "array([array([  0,   0,   0,   0,   0,   0,   0,   0,   0,   0,   0,   0,   0,\n",
              "         0,   0,   0,   0,   0,   0,   0,   0,   0,   0,   0,   0,   0,\n",
              "         0,   0,   0,   0,   0,   0,   0,   0,   0,   0,   0, 176,   4,\n",
              "        37,  61, 214, 214,  95,  96, 207, 215, 216,  68, 213], dtype=int32)],\n",
              "      dtype=object)"
            ]
          },
          "metadata": {
            "tags": []
          },
          "execution_count": 25
        }
      ]
    },
    {
      "cell_type": "code",
      "metadata": {
        "colab": {
          "base_uri": "https://localhost:8080/"
        },
        "id": "u5moOFl8Zfxk",
        "outputId": "bd2fd1cc-efe5-4b3f-b6be-8d4b200724d0"
      },
      "source": [
        "d_test[d_test.user == 100].target.values"
      ],
      "execution_count": null,
      "outputs": [
        {
          "output_type": "execute_result",
          "data": {
            "text/plain": [
              "array([list([93])], dtype=object)"
            ]
          },
          "metadata": {
            "tags": []
          },
          "execution_count": 26
        }
      ]
    },
    {
      "cell_type": "code",
      "metadata": {
        "colab": {
          "base_uri": "https://localhost:8080/"
        },
        "id": "Yw35GoYe6a3g",
        "outputId": "e54dd3eb-d4c1-40cc-c195-65372387a070"
      },
      "source": [
        "len(d_train)"
      ],
      "execution_count": null,
      "outputs": [
        {
          "output_type": "execute_result",
          "data": {
            "text/plain": [
              "46574"
            ]
          },
          "metadata": {
            "tags": []
          },
          "execution_count": 28
        }
      ]
    },
    {
      "cell_type": "code",
      "metadata": {
        "id": "vLP5LFW2itQS"
      },
      "source": [
        "num_usr, num_item, items_usr_clicked, _, _ = d_info\n",
        "all_items = [i for i in range(num_item)]"
      ],
      "execution_count": null,
      "outputs": []
    },
    {
      "cell_type": "code",
      "metadata": {
        "id": "UX6MNJYbiu6U",
        "colab": {
          "base_uri": "https://localhost:8080/"
        },
        "outputId": "c61a8a10-4806-4ee1-93b6-b1393b4c7995"
      },
      "source": [
        "print(num_usr)\n",
        "print(num_item)"
      ],
      "execution_count": null,
      "outputs": [
        {
          "output_type": "stream",
          "text": [
            "46574\n",
            "1384\n"
          ],
          "name": "stdout"
        }
      ]
    },
    {
      "cell_type": "code",
      "metadata": {
        "id": "CYwG1HB3jcGM"
      },
      "source": [
        "# Define DataIterator\n",
        "trainIterator = DataIterator('train',d_train, args.batch_size, args.max_len,\n",
        "                              all_items, items_usr_clicked, shuffle=True)"
      ],
      "execution_count": null,
      "outputs": []
    },
    {
      "cell_type": "code",
      "metadata": {
        "id": "vli_Zycwjfdp",
        "colab": {
          "base_uri": "https://localhost:8080/"
        },
        "outputId": "659e425b-7fea-4611-e761-99629977f076"
      },
      "source": [
        "# Define Model\n",
        "model = Model(usernum=num_usr,\n",
        "                itemnum=num_item,\n",
        "                args=args)"
      ],
      "execution_count": null,
      "outputs": [
        {
          "output_type": "stream",
          "text": [
            "WARNING:tensorflow:From /content/gdrive/My Drive/Sequential_Recommendation/models/SASRec/model.py:6: The name tf.placeholder is deprecated. Please use tf.compat.v1.placeholder instead.\n",
            "\n",
            "WARNING:tensorflow:From /content/gdrive/My Drive/Sequential_Recommendation/models/SASRec/model.py:13: to_float (from tensorflow.python.ops.math_ops) is deprecated and will be removed in a future version.\n",
            "Instructions for updating:\n",
            "Use `tf.cast` instead.\n",
            "WARNING:tensorflow:From /content/gdrive/My Drive/Sequential_Recommendation/models/SASRec/model.py:15: The name tf.variable_scope is deprecated. Please use tf.compat.v1.variable_scope instead.\n",
            "\n",
            "WARNING:tensorflow:From /content/gdrive/My Drive/Sequential_Recommendation/models/SASRec/modules.py:117: The name tf.get_variable is deprecated. Please use tf.compat.v1.get_variable instead.\n",
            "\n",
            "WARNING:tensorflow:\n",
            "The TensorFlow contrib module will not be included in TensorFlow 2.0.\n",
            "For more information, please see:\n",
            "  * https://github.com/tensorflow/community/blob/master/rfcs/20180907-contrib-sunset.md\n",
            "  * https://github.com/tensorflow/addons\n",
            "  * https://github.com/tensorflow/io (for I/O related ops)\n",
            "If you depend on functionality not listed there, please file an issue.\n",
            "\n",
            "INFO:tensorflow:Scale of 0 disables regularizer.\n",
            "INFO:tensorflow:Scale of 0 disables regularizer.\n",
            "WARNING:tensorflow:From /content/gdrive/My Drive/Sequential_Recommendation/models/SASRec/model.py:45: dropout (from tensorflow.python.layers.core) is deprecated and will be removed in a future version.\n",
            "Instructions for updating:\n",
            "Use keras.layers.dropout instead.\n",
            "WARNING:tensorflow:From /tensorflow-1.15.2/python3.6/tensorflow_core/python/layers/core.py:271: Layer.apply (from tensorflow.python.keras.engine.base_layer) is deprecated and will be removed in a future version.\n",
            "Instructions for updating:\n",
            "Please use `layer.__call__` method instead.\n",
            "WARNING:tensorflow:From /content/gdrive/My Drive/Sequential_Recommendation/models/SASRec/modules.py:169: dense (from tensorflow.python.layers.core) is deprecated and will be removed in a future version.\n",
            "Instructions for updating:\n",
            "Use keras.layers.Dense instead.\n",
            "WARNING:tensorflow:From /content/gdrive/My Drive/Sequential_Recommendation/models/SASRec/modules.py:190: where (from tensorflow.python.ops.array_ops) is deprecated and will be removed in a future version.\n",
            "Instructions for updating:\n",
            "Use tf.where in 2.0, which has the same broadcast rule as np.where\n",
            "WARNING:tensorflow:From /content/gdrive/My Drive/Sequential_Recommendation/models/SASRec/modules.py:250: conv1d (from tensorflow.python.layers.convolutional) is deprecated and will be removed in a future version.\n",
            "Instructions for updating:\n",
            "Use `tf.keras.layers.Conv1D` instead.\n",
            "WARNING:tensorflow:From /content/gdrive/My Drive/Sequential_Recommendation/models/SASRec/model.py:89: The name tf.log is deprecated. Please use tf.math.log instead.\n",
            "\n",
            "WARNING:tensorflow:From /content/gdrive/My Drive/Sequential_Recommendation/models/SASRec/model.py:92: The name tf.get_collection is deprecated. Please use tf.compat.v1.get_collection instead.\n",
            "\n",
            "WARNING:tensorflow:From /content/gdrive/My Drive/Sequential_Recommendation/models/SASRec/model.py:92: The name tf.GraphKeys is deprecated. Please use tf.compat.v1.GraphKeys instead.\n",
            "\n",
            "WARNING:tensorflow:From /content/gdrive/My Drive/Sequential_Recommendation/models/SASRec/model.py:95: The name tf.summary.scalar is deprecated. Please use tf.compat.v1.summary.scalar instead.\n",
            "\n",
            "WARNING:tensorflow:From /content/gdrive/My Drive/Sequential_Recommendation/models/SASRec/model.py:103: The name tf.train.AdamOptimizer is deprecated. Please use tf.compat.v1.train.AdamOptimizer instead.\n",
            "\n",
            "WARNING:tensorflow:From /content/gdrive/My Drive/Sequential_Recommendation/models/SASRec/model.py:108: The name tf.summary.merge_all is deprecated. Please use tf.compat.v1.summary.merge_all instead.\n",
            "\n"
          ],
          "name": "stdout"
        }
      ]
    },
    {
      "cell_type": "code",
      "metadata": {
        "id": "EKj4z3-8Ph8_"
      },
      "source": [
        "if not os.path.isdir(args.dataset + '_' + args.train_dir):\n",
        "    os.makedirs(args.dataset + '_' + args.train_dir)\n",
        "with open(os.path.join(args.dataset + '_' + args.train_dir, 'args.txt'), 'w') as f:\n",
        "    f.write('\\n'.join([str(k) + ',' + str(v) for k, v in sorted(vars(args).items(), key=lambda x: x[0])]))\n",
        "f.close()"
      ],
      "execution_count": null,
      "outputs": []
    },
    {
      "cell_type": "code",
      "metadata": {
        "id": "CJ_eZuMtPLAM"
      },
      "source": [
        "f = open(os.path.join(args.dataset + '_' + args.train_dir, 'SASRec_log.txt'), 'w')\n",
        "config = tf.ConfigProto()\n",
        "config.gpu_options.per_process_gpu_memory_fraction = 0.5\n",
        "config.allow_soft_placement = True"
      ],
      "execution_count": null,
      "outputs": []
    },
    {
      "cell_type": "code",
      "metadata": {
        "id": "8QkUMpdIPljz"
      },
      "source": [
        "T = 0.0\n",
        "t0 = time.time()"
      ],
      "execution_count": null,
      "outputs": []
    },
    {
      "cell_type": "code",
      "metadata": {
        "colab": {
          "base_uri": "https://localhost:8080/"
        },
        "collapsed": true,
        "id": "PLv1jjtnuW5L",
        "outputId": "207bb5a9-5b84-430c-95bf-15d41fd9f301"
      },
      "source": [
        "with tf.Session(config=config) as sess:\n",
        "    sess.run(tf.global_variables_initializer())\n",
        "    \n",
        "\n",
        "    for epoch in range(1, args.num_epochs):\n",
        "\n",
        "        #train\n",
        "        cost_list = []\n",
        "        for train_input in tqdm(trainIterator,desc='epoch {}'.format(epoch),total=trainIterator.total_batch):\n",
        "            batch_usr, batch_seq, batch_pos, batch_neg = train_input            \n",
        "            auc, cost, _ = sess.run([model.auc, model.loss, model.train_op],\n",
        "                                {model.u: batch_usr, model.input_seq: batch_seq,  \n",
        "                                   model.pos: batch_pos, model.neg: batch_neg, model.is_training: True})\n",
        "            cost_list.append(cost)\n",
        "        mean_cost = np.mean(cost_list)\n",
        "        \n",
        "        #saver.save(sess, FLAGS.save_path)\n",
        "\n",
        "        if epoch % 20 == 0:\n",
        "          t1 = time.time() - t0\n",
        "          T += t1        \n",
        "          t_test = all_item_evaluate(model, item_dataset, all_items, args, sess)\n",
        "          print('epoch:%d, time: %f(s), test (NDCG@10: %.4f, HR@10: %.4f)' % ( epoch, T, t_test[0], t_test[1]))\n",
        "          f.write(str(epoch)+'epoch:'+' ' + '(NDCG@10,HR@10)' + ' ' + str(t_test) + '\\n')\n",
        "          f.flush()\n",
        "\n",
        "          t0 = time.time()\n",
        "        "
      ],
      "execution_count": null,
      "outputs": [
        {
          "output_type": "stream",
          "text": [
            "epoch 1: 100%|██████████| 364/364 [00:16<00:00, 22.23it/s]\n",
            "epoch 2: 100%|██████████| 364/364 [00:08<00:00, 41.43it/s]\n",
            "epoch 3: 100%|██████████| 364/364 [00:08<00:00, 41.95it/s]\n",
            "epoch 4: 100%|██████████| 364/364 [00:08<00:00, 41.91it/s]\n",
            "epoch 5: 100%|██████████| 364/364 [00:08<00:00, 41.06it/s]\n",
            "epoch 6: 100%|██████████| 364/364 [00:08<00:00, 41.95it/s]\n",
            "epoch 7: 100%|██████████| 364/364 [00:08<00:00, 42.70it/s]\n",
            "epoch 8: 100%|██████████| 364/364 [00:08<00:00, 40.49it/s]\n",
            "epoch 9: 100%|██████████| 364/364 [00:08<00:00, 41.68it/s]\n",
            "epoch 10: 100%|██████████| 364/364 [00:08<00:00, 43.08it/s]\n",
            "epoch 11: 100%|██████████| 364/364 [00:08<00:00, 41.41it/s]\n",
            "epoch 12: 100%|██████████| 364/364 [00:08<00:00, 42.53it/s]\n",
            "epoch 13: 100%|██████████| 364/364 [00:08<00:00, 42.65it/s]\n",
            "epoch 14: 100%|██████████| 364/364 [00:08<00:00, 41.30it/s]\n",
            "epoch 15: 100%|██████████| 364/364 [00:08<00:00, 41.75it/s]\n",
            "epoch 16: 100%|██████████| 364/364 [00:08<00:00, 41.77it/s]\n",
            "epoch 17: 100%|██████████| 364/364 [00:08<00:00, 42.78it/s]\n",
            "epoch 18: 100%|██████████| 364/364 [00:08<00:00, 42.40it/s]\n",
            "epoch 19: 100%|██████████| 364/364 [00:08<00:00, 41.94it/s]\n",
            "epoch 20: 100%|██████████| 364/364 [00:08<00:00, 42.82it/s]\n",
            "epoch 21:   1%|▏         | 5/364 [00:00<00:08, 44.72it/s]"
          ],
          "name": "stderr"
        },
        {
          "output_type": "stream",
          "text": [
            "epoch:20, time: 190.179037(s), test (NDCG@10: 0.1715, HR@10: 0.3015)\n"
          ],
          "name": "stdout"
        },
        {
          "output_type": "stream",
          "text": [
            "epoch 21: 100%|██████████| 364/364 [00:08<00:00, 43.06it/s]\n",
            "epoch 22: 100%|██████████| 364/364 [00:08<00:00, 40.87it/s]\n",
            "epoch 23: 100%|██████████| 364/364 [00:08<00:00, 41.18it/s]\n",
            "epoch 24: 100%|██████████| 364/364 [00:08<00:00, 42.84it/s]\n",
            "epoch 25: 100%|██████████| 364/364 [00:08<00:00, 41.67it/s]\n",
            "epoch 26: 100%|██████████| 364/364 [00:08<00:00, 43.53it/s]\n",
            "epoch 27: 100%|██████████| 364/364 [00:08<00:00, 44.22it/s]\n",
            "epoch 28: 100%|██████████| 364/364 [00:08<00:00, 42.24it/s]\n",
            "epoch 29: 100%|██████████| 364/364 [00:08<00:00, 41.98it/s]\n",
            "epoch 30: 100%|██████████| 364/364 [00:08<00:00, 42.15it/s]\n",
            "epoch 31: 100%|██████████| 364/364 [00:08<00:00, 42.79it/s]\n",
            "epoch 32: 100%|██████████| 364/364 [00:08<00:00, 42.81it/s]\n",
            "epoch 33: 100%|██████████| 364/364 [00:08<00:00, 42.61it/s]\n",
            "epoch 34: 100%|██████████| 364/364 [00:08<00:00, 43.00it/s]\n",
            "epoch 35: 100%|██████████| 364/364 [00:08<00:00, 43.07it/s]\n",
            "epoch 36: 100%|██████████| 364/364 [00:08<00:00, 42.91it/s]\n",
            "epoch 37: 100%|██████████| 364/364 [00:08<00:00, 41.55it/s]\n",
            "epoch 38: 100%|██████████| 364/364 [00:08<00:00, 40.97it/s]\n",
            "epoch 39: 100%|██████████| 364/364 [00:08<00:00, 41.35it/s]\n",
            "epoch 40: 100%|██████████| 364/364 [00:08<00:00, 41.69it/s]\n",
            "epoch 41:   1%|▏         | 5/364 [00:00<00:08, 40.81it/s]"
          ],
          "name": "stderr"
        },
        {
          "output_type": "stream",
          "text": [
            "epoch:40, time: 362.332646(s), test (NDCG@10: 0.1754, HR@10: 0.3049)\n"
          ],
          "name": "stdout"
        },
        {
          "output_type": "stream",
          "text": [
            "epoch 41: 100%|██████████| 364/364 [00:08<00:00, 41.25it/s]\n",
            "epoch 42: 100%|██████████| 364/364 [00:08<00:00, 42.79it/s]\n",
            "epoch 43: 100%|██████████| 364/364 [00:08<00:00, 42.57it/s]\n",
            "epoch 44: 100%|██████████| 364/364 [00:08<00:00, 42.87it/s]\n",
            "epoch 45: 100%|██████████| 364/364 [00:08<00:00, 42.74it/s]\n",
            "epoch 46: 100%|██████████| 364/364 [00:08<00:00, 42.74it/s]\n",
            "epoch 47: 100%|██████████| 364/364 [00:08<00:00, 41.17it/s]\n",
            "epoch 48: 100%|██████████| 364/364 [00:08<00:00, 42.29it/s]\n",
            "epoch 49: 100%|██████████| 364/364 [00:08<00:00, 41.29it/s]\n",
            "epoch 50: 100%|██████████| 364/364 [00:08<00:00, 43.05it/s]\n",
            "epoch 51: 100%|██████████| 364/364 [00:08<00:00, 43.16it/s]\n",
            "epoch 52: 100%|██████████| 364/364 [00:08<00:00, 43.52it/s]\n",
            "epoch 53: 100%|██████████| 364/364 [00:08<00:00, 43.50it/s]\n",
            "epoch 54: 100%|██████████| 364/364 [00:08<00:00, 41.94it/s]\n",
            "epoch 55: 100%|██████████| 364/364 [00:08<00:00, 42.96it/s]\n",
            "epoch 56: 100%|██████████| 364/364 [00:08<00:00, 41.84it/s]\n",
            "epoch 57: 100%|██████████| 364/364 [00:08<00:00, 41.85it/s]\n",
            "epoch 58: 100%|██████████| 364/364 [00:08<00:00, 42.17it/s]\n",
            "epoch 59: 100%|██████████| 364/364 [00:08<00:00, 41.75it/s]\n",
            "epoch 60: 100%|██████████| 364/364 [00:08<00:00, 41.26it/s]\n",
            "epoch 61:   1%|▏         | 5/364 [00:00<00:08, 43.74it/s]"
          ],
          "name": "stderr"
        },
        {
          "output_type": "stream",
          "text": [
            "epoch:60, time: 534.412884(s), test (NDCG@10: 0.1808, HR@10: 0.3131)\n"
          ],
          "name": "stdout"
        },
        {
          "output_type": "stream",
          "text": [
            "epoch 61: 100%|██████████| 364/364 [00:08<00:00, 42.43it/s]\n",
            "epoch 62: 100%|██████████| 364/364 [00:08<00:00, 42.81it/s]\n",
            "epoch 63: 100%|██████████| 364/364 [00:08<00:00, 42.83it/s]\n",
            "epoch 64: 100%|██████████| 364/364 [00:08<00:00, 42.18it/s]\n",
            "epoch 65: 100%|██████████| 364/364 [00:08<00:00, 43.13it/s]\n",
            "epoch 66: 100%|██████████| 364/364 [00:08<00:00, 43.12it/s]\n",
            "epoch 67: 100%|██████████| 364/364 [00:08<00:00, 42.85it/s]\n",
            "epoch 68: 100%|██████████| 364/364 [00:08<00:00, 42.32it/s]\n",
            "epoch 69: 100%|██████████| 364/364 [00:09<00:00, 40.05it/s]\n",
            "epoch 70: 100%|██████████| 364/364 [00:08<00:00, 42.50it/s]\n",
            "epoch 71: 100%|██████████| 364/364 [00:08<00:00, 42.08it/s]\n",
            "epoch 72: 100%|██████████| 364/364 [00:08<00:00, 43.22it/s]\n",
            "epoch 73: 100%|██████████| 364/364 [00:08<00:00, 41.80it/s]\n",
            "epoch 74: 100%|██████████| 364/364 [00:08<00:00, 41.53it/s]\n",
            "epoch 75: 100%|██████████| 364/364 [00:08<00:00, 42.18it/s]\n",
            "epoch 76: 100%|██████████| 364/364 [00:08<00:00, 41.43it/s]\n",
            "epoch 77: 100%|██████████| 364/364 [00:08<00:00, 42.41it/s]\n",
            "epoch 78: 100%|██████████| 364/364 [00:08<00:00, 41.73it/s]\n",
            "epoch 79: 100%|██████████| 364/364 [00:08<00:00, 42.54it/s]\n",
            "epoch 80: 100%|██████████| 364/364 [00:08<00:00, 40.89it/s]\n",
            "epoch 81:   1%|▏         | 5/364 [00:00<00:07, 46.00it/s]"
          ],
          "name": "stderr"
        },
        {
          "output_type": "stream",
          "text": [
            "epoch:80, time: 707.054566(s), test (NDCG@10: 0.1810, HR@10: 0.3138)\n"
          ],
          "name": "stdout"
        },
        {
          "output_type": "stream",
          "text": [
            "epoch 81: 100%|██████████| 364/364 [00:08<00:00, 42.40it/s]\n",
            "epoch 82: 100%|██████████| 364/364 [00:08<00:00, 41.61it/s]\n",
            "epoch 83: 100%|██████████| 364/364 [00:08<00:00, 41.33it/s]\n",
            "epoch 84: 100%|██████████| 364/364 [00:08<00:00, 41.70it/s]\n",
            "epoch 85: 100%|██████████| 364/364 [00:08<00:00, 41.46it/s]\n",
            "epoch 86: 100%|██████████| 364/364 [00:08<00:00, 41.64it/s]\n",
            "epoch 87: 100%|██████████| 364/364 [00:08<00:00, 41.79it/s]\n",
            "epoch 88: 100%|██████████| 364/364 [00:08<00:00, 43.04it/s]\n",
            "epoch 89: 100%|██████████| 364/364 [00:08<00:00, 42.40it/s]\n",
            "epoch 90: 100%|██████████| 364/364 [00:08<00:00, 42.61it/s]\n",
            "epoch 91: 100%|██████████| 364/364 [00:08<00:00, 42.85it/s]\n",
            "epoch 92: 100%|██████████| 364/364 [00:08<00:00, 44.19it/s]\n",
            "epoch 93: 100%|██████████| 364/364 [00:08<00:00, 43.24it/s]\n",
            "epoch 94: 100%|██████████| 364/364 [00:08<00:00, 41.19it/s]\n",
            "epoch 95: 100%|██████████| 364/364 [00:08<00:00, 43.46it/s]\n",
            "epoch 96: 100%|██████████| 364/364 [00:08<00:00, 44.05it/s]\n",
            "epoch 97: 100%|██████████| 364/364 [00:08<00:00, 41.02it/s]\n",
            "epoch 98: 100%|██████████| 364/364 [00:08<00:00, 42.00it/s]\n",
            "epoch 99: 100%|██████████| 364/364 [00:08<00:00, 41.13it/s]\n",
            "epoch 100: 100%|██████████| 364/364 [00:08<00:00, 42.41it/s]\n",
            "epoch 101:   1%|▏         | 5/364 [00:00<00:08, 44.35it/s]"
          ],
          "name": "stderr"
        },
        {
          "output_type": "stream",
          "text": [
            "epoch:100, time: 879.410734(s), test (NDCG@10: 0.1790, HR@10: 0.3124)\n"
          ],
          "name": "stdout"
        },
        {
          "output_type": "stream",
          "text": [
            "epoch 101: 100%|██████████| 364/364 [00:08<00:00, 42.13it/s]\n",
            "epoch 102: 100%|██████████| 364/364 [00:08<00:00, 42.31it/s]\n",
            "epoch 103: 100%|██████████| 364/364 [00:08<00:00, 41.45it/s]\n",
            "epoch 104: 100%|██████████| 364/364 [00:08<00:00, 42.00it/s]\n",
            "epoch 105: 100%|██████████| 364/364 [00:08<00:00, 41.70it/s]\n",
            "epoch 106: 100%|██████████| 364/364 [00:08<00:00, 43.14it/s]\n",
            "epoch 107: 100%|██████████| 364/364 [00:08<00:00, 40.89it/s]\n",
            "epoch 108: 100%|██████████| 364/364 [00:08<00:00, 42.13it/s]\n",
            "epoch 109: 100%|██████████| 364/364 [00:08<00:00, 41.37it/s]\n",
            "epoch 110: 100%|██████████| 364/364 [00:08<00:00, 43.19it/s]\n",
            "epoch 111: 100%|██████████| 364/364 [00:08<00:00, 41.55it/s]\n",
            "epoch 112: 100%|██████████| 364/364 [00:08<00:00, 42.62it/s]\n",
            "epoch 113: 100%|██████████| 364/364 [00:08<00:00, 41.71it/s]\n",
            "epoch 114: 100%|██████████| 364/364 [00:08<00:00, 42.18it/s]\n",
            "epoch 115: 100%|██████████| 364/364 [00:08<00:00, 42.42it/s]\n",
            "epoch 116: 100%|██████████| 364/364 [00:08<00:00, 43.56it/s]\n",
            "epoch 117: 100%|██████████| 364/364 [00:08<00:00, 41.65it/s]\n",
            "epoch 118: 100%|██████████| 364/364 [00:08<00:00, 41.83it/s]\n",
            "epoch 119: 100%|██████████| 364/364 [00:08<00:00, 42.44it/s]\n",
            "epoch 120: 100%|██████████| 364/364 [00:08<00:00, 42.63it/s]\n",
            "epoch 121:   1%|▏         | 5/364 [00:00<00:08, 43.26it/s]"
          ],
          "name": "stderr"
        },
        {
          "output_type": "stream",
          "text": [
            "epoch:120, time: 1052.260932(s), test (NDCG@10: 0.1800, HR@10: 0.3118)\n"
          ],
          "name": "stdout"
        },
        {
          "output_type": "stream",
          "text": [
            "epoch 121: 100%|██████████| 364/364 [00:08<00:00, 42.31it/s]\n",
            "epoch 122: 100%|██████████| 364/364 [00:08<00:00, 41.60it/s]\n",
            "epoch 123: 100%|██████████| 364/364 [00:08<00:00, 41.84it/s]\n",
            "epoch 124: 100%|██████████| 364/364 [00:08<00:00, 41.57it/s]\n",
            "epoch 125: 100%|██████████| 364/364 [00:08<00:00, 42.51it/s]\n",
            "epoch 126: 100%|██████████| 364/364 [00:08<00:00, 42.73it/s]\n",
            "epoch 127: 100%|██████████| 364/364 [00:08<00:00, 40.74it/s]\n",
            "epoch 128: 100%|██████████| 364/364 [00:08<00:00, 41.50it/s]\n",
            "epoch 129: 100%|██████████| 364/364 [00:08<00:00, 41.68it/s]\n",
            "epoch 130: 100%|██████████| 364/364 [00:08<00:00, 41.48it/s]\n",
            "epoch 131: 100%|██████████| 364/364 [00:08<00:00, 41.93it/s]\n",
            "epoch 132: 100%|██████████| 364/364 [00:08<00:00, 40.64it/s]\n",
            "epoch 133: 100%|██████████| 364/364 [00:08<00:00, 40.90it/s]\n",
            "epoch 134: 100%|██████████| 364/364 [00:08<00:00, 43.06it/s]\n",
            "epoch 135: 100%|██████████| 364/364 [00:08<00:00, 42.42it/s]\n",
            "epoch 136: 100%|██████████| 364/364 [00:08<00:00, 42.21it/s]\n",
            "epoch 137: 100%|██████████| 364/364 [00:08<00:00, 41.27it/s]\n",
            "epoch 138: 100%|██████████| 364/364 [00:08<00:00, 42.82it/s]\n",
            "epoch 139: 100%|██████████| 364/364 [00:08<00:00, 42.21it/s]\n",
            "epoch 140: 100%|██████████| 364/364 [00:08<00:00, 42.84it/s]\n",
            "epoch 141:   1%|▏         | 5/364 [00:00<00:08, 44.56it/s]"
          ],
          "name": "stderr"
        },
        {
          "output_type": "stream",
          "text": [
            "epoch:140, time: 1226.073170(s), test (NDCG@10: 0.1900, HR@10: 0.3230)\n"
          ],
          "name": "stdout"
        },
        {
          "output_type": "stream",
          "text": [
            "epoch 141: 100%|██████████| 364/364 [00:08<00:00, 42.47it/s]\n",
            "epoch 142: 100%|██████████| 364/364 [00:08<00:00, 41.41it/s]\n",
            "epoch 143: 100%|██████████| 364/364 [00:08<00:00, 42.35it/s]\n",
            "epoch 144: 100%|██████████| 364/364 [00:08<00:00, 41.27it/s]\n",
            "epoch 145: 100%|██████████| 364/364 [00:08<00:00, 43.07it/s]\n",
            "epoch 146: 100%|██████████| 364/364 [00:08<00:00, 42.70it/s]\n",
            "epoch 147: 100%|██████████| 364/364 [00:08<00:00, 42.58it/s]\n",
            "epoch 148: 100%|██████████| 364/364 [00:08<00:00, 42.72it/s]\n",
            "epoch 149: 100%|██████████| 364/364 [00:08<00:00, 42.46it/s]\n",
            "epoch 150: 100%|██████████| 364/364 [00:08<00:00, 43.11it/s]\n",
            "epoch 151: 100%|██████████| 364/364 [00:08<00:00, 42.48it/s]\n",
            "epoch 152: 100%|██████████| 364/364 [00:08<00:00, 42.67it/s]\n",
            "epoch 153: 100%|██████████| 364/364 [00:08<00:00, 41.30it/s]\n",
            "epoch 154: 100%|██████████| 364/364 [00:08<00:00, 41.70it/s]\n",
            "epoch 155: 100%|██████████| 364/364 [00:09<00:00, 40.36it/s]\n",
            "epoch 156: 100%|██████████| 364/364 [00:08<00:00, 42.38it/s]\n",
            "epoch 157: 100%|██████████| 364/364 [00:08<00:00, 42.34it/s]\n",
            "epoch 158: 100%|██████████| 364/364 [00:09<00:00, 40.38it/s]\n",
            "epoch 159: 100%|██████████| 364/364 [00:08<00:00, 42.12it/s]\n",
            "epoch 160: 100%|██████████| 364/364 [00:08<00:00, 42.49it/s]\n",
            "epoch 161:   1%|▏         | 5/364 [00:00<00:08, 43.01it/s]"
          ],
          "name": "stderr"
        },
        {
          "output_type": "stream",
          "text": [
            "epoch:160, time: 1399.066607(s), test (NDCG@10: 0.1856, HR@10: 0.3167)\n"
          ],
          "name": "stdout"
        },
        {
          "output_type": "stream",
          "text": [
            "epoch 161: 100%|██████████| 364/364 [00:08<00:00, 42.02it/s]\n",
            "epoch 162: 100%|██████████| 364/364 [00:08<00:00, 41.90it/s]\n",
            "epoch 163: 100%|██████████| 364/364 [00:08<00:00, 43.45it/s]\n",
            "epoch 164: 100%|██████████| 364/364 [00:08<00:00, 42.62it/s]\n",
            "epoch 165: 100%|██████████| 364/364 [00:08<00:00, 42.25it/s]\n",
            "epoch 166: 100%|██████████| 364/364 [00:08<00:00, 41.68it/s]\n",
            "epoch 167: 100%|██████████| 364/364 [00:08<00:00, 41.82it/s]\n",
            "epoch 168: 100%|██████████| 364/364 [00:08<00:00, 42.67it/s]\n",
            "epoch 169: 100%|██████████| 364/364 [00:08<00:00, 41.49it/s]\n",
            "epoch 170: 100%|██████████| 364/364 [00:08<00:00, 42.78it/s]\n",
            "epoch 171: 100%|██████████| 364/364 [00:08<00:00, 42.25it/s]\n",
            "epoch 172: 100%|██████████| 364/364 [00:08<00:00, 41.16it/s]\n",
            "epoch 173: 100%|██████████| 364/364 [00:08<00:00, 43.25it/s]\n",
            "epoch 174: 100%|██████████| 364/364 [00:08<00:00, 42.53it/s]\n",
            "epoch 175: 100%|██████████| 364/364 [00:08<00:00, 42.54it/s]\n",
            "epoch 176: 100%|██████████| 364/364 [00:08<00:00, 43.12it/s]\n",
            "epoch 177: 100%|██████████| 364/364 [00:08<00:00, 43.00it/s]\n",
            "epoch 178: 100%|██████████| 364/364 [00:08<00:00, 42.40it/s]\n",
            "epoch 179: 100%|██████████| 364/364 [00:08<00:00, 41.42it/s]\n",
            "epoch 180: 100%|██████████| 364/364 [00:08<00:00, 40.89it/s]\n",
            "epoch 181:   1%|          | 4/364 [00:00<00:09, 39.23it/s]"
          ],
          "name": "stderr"
        },
        {
          "output_type": "stream",
          "text": [
            "epoch:180, time: 1571.446790(s), test (NDCG@10: 0.1850, HR@10: 0.3146)\n"
          ],
          "name": "stdout"
        },
        {
          "output_type": "stream",
          "text": [
            "epoch 181: 100%|██████████| 364/364 [00:08<00:00, 42.02it/s]\n",
            "epoch 182: 100%|██████████| 364/364 [00:08<00:00, 42.62it/s]\n",
            "epoch 183: 100%|██████████| 364/364 [00:08<00:00, 43.31it/s]\n",
            "epoch 184: 100%|██████████| 364/364 [00:08<00:00, 42.99it/s]\n",
            "epoch 185: 100%|██████████| 364/364 [00:08<00:00, 42.65it/s]\n",
            "epoch 186: 100%|██████████| 364/364 [00:08<00:00, 42.19it/s]\n",
            "epoch 187: 100%|██████████| 364/364 [00:08<00:00, 43.60it/s]\n",
            "epoch 188: 100%|██████████| 364/364 [00:08<00:00, 43.17it/s]\n",
            "epoch 189: 100%|██████████| 364/364 [00:08<00:00, 42.84it/s]\n",
            "epoch 190: 100%|██████████| 364/364 [00:08<00:00, 41.98it/s]\n",
            "epoch 191: 100%|██████████| 364/364 [00:08<00:00, 42.72it/s]\n",
            "epoch 192: 100%|██████████| 364/364 [00:08<00:00, 42.38it/s]\n",
            "epoch 193: 100%|██████████| 364/364 [00:08<00:00, 42.55it/s]\n",
            "epoch 194: 100%|██████████| 364/364 [00:08<00:00, 42.77it/s]\n",
            "epoch 195: 100%|██████████| 364/364 [00:08<00:00, 43.13it/s]\n",
            "epoch 196: 100%|██████████| 364/364 [00:08<00:00, 42.56it/s]\n",
            "epoch 197: 100%|██████████| 364/364 [00:08<00:00, 43.41it/s]\n",
            "epoch 198: 100%|██████████| 364/364 [00:08<00:00, 42.24it/s]\n",
            "epoch 199: 100%|██████████| 364/364 [00:08<00:00, 41.92it/s]\n",
            "epoch 200: 100%|██████████| 364/364 [00:08<00:00, 42.84it/s]\n"
          ],
          "name": "stderr"
        },
        {
          "output_type": "stream",
          "text": [
            "epoch:200, time: 1742.054423(s), test (NDCG@10: 0.1773, HR@10: 0.3103)\n"
          ],
          "name": "stdout"
        }
      ]
    },
    {
      "cell_type": "code",
      "metadata": {
        "colab": {
          "base_uri": "https://localhost:8080/"
        },
        "id": "zX4JZfZg36Kr",
        "outputId": "85eab38d-d629-4fc2-cad7-bc0377a0501e"
      },
      "source": [
        "batch_usr"
      ],
      "execution_count": null,
      "outputs": [
        {
          "output_type": "execute_result",
          "data": {
            "text/plain": [
              "array([  4819,   1061,  76527,  78922,  26879,  38777,  15976,  56399,\n",
              "       109886,  42107,  24007, 102748,  90839,  82646,  53069,  43444,\n",
              "        67838,  88853,  10345,  87741,  92463,  66604,  54500,  86767,\n",
              "       104909, 103707,  40712,  11109,  73064,  26502,  71835,  14075,\n",
              "        26852,  49849,  35503,  62348, 111185,  99166,  90396,  84297,\n",
              "        52458,  50486,  58252,  29334,   8247,  44240,  82529,  88328,\n",
              "        76797,  67200,  62377,  34225,  31159,  13269,   5075,  65774,\n",
              "        79828,  36474,  38235, 114382,  36589,  51502,  99397, 100336,\n",
              "        85127,  60527,  90324,  75689,  81226,  19972,  48599,  32874,\n",
              "        44374, 101198, 113054,  81808,  82387,  81134,  61882, 113126,\n",
              "         5288,  14371,  13044,  44941,  91902,  28396, 107574,  13146,\n",
              "        95276,  54967,  58770,  52452,  60449,  92173,  38456,  63059,\n",
              "       108067,  62416,  52797,  99098,  12962,   7047,  26202,  79382,\n",
              "        53387, 113231, 108219, 110014])"
            ]
          },
          "metadata": {
            "tags": []
          },
          "execution_count": 38
        }
      ]
    },
    {
      "cell_type": "code",
      "metadata": {
        "colab": {
          "base_uri": "https://localhost:8080/"
        },
        "id": "-ntQDoU-4GZl",
        "outputId": "f9e3fbd9-fad5-426e-b319-8fb0f1ae59c1"
      },
      "source": [
        "batch_seq[-1]"
      ],
      "execution_count": null,
      "outputs": [
        {
          "output_type": "execute_result",
          "data": {
            "text/plain": [
              "array([  0,   0,   0,   0,   0,   0,   0,   0,   0,   0,   0,   0,   0,\n",
              "         0,   0,   0,   0,   0,   0,   0,   0,   0,   0,   0,   0,   0,\n",
              "         0,   0,   0,   0,   0,   0,   0,   0,   0,   0,   0,   0,   0,\n",
              "         0,   0,   0,   0,   0,   0, 344, 598,  50,  57,  93], dtype=int32)"
            ]
          },
          "metadata": {
            "tags": []
          },
          "execution_count": 44
        }
      ]
    },
    {
      "cell_type": "code",
      "metadata": {
        "colab": {
          "base_uri": "https://localhost:8080/"
        },
        "id": "tMvQS-2i39Ih",
        "outputId": "db85c817-3d1b-4bd7-c469-8d339d47cb31"
      },
      "source": [
        "batch_pos[-1]"
      ],
      "execution_count": null,
      "outputs": [
        {
          "output_type": "execute_result",
          "data": {
            "text/plain": [
              "array([  0,   0,   0,   0,   0,   0,   0,   0,   0,   0,   0,   0,   0,\n",
              "         0,   0,   0,   0,   0,   0,   0,   0,   0,   0,   0,   0,   0,\n",
              "         0,   0,   0,   0,   0,   0,   0,   0,   0,   0,   0,   0,   0,\n",
              "         0,   0,   0,   0,   0,   0, 598,  50,  57,  93, 160], dtype=int32)"
            ]
          },
          "metadata": {
            "tags": []
          },
          "execution_count": 43
        }
      ]
    },
    {
      "cell_type": "code",
      "metadata": {
        "colab": {
          "base_uri": "https://localhost:8080/"
        },
        "id": "vGKPPM_N4IKd",
        "outputId": "d3846319-8633-448d-99fb-ae42a47cee74"
      },
      "source": [
        "batch_neg[-1]  "
      ],
      "execution_count": null,
      "outputs": [
        {
          "output_type": "execute_result",
          "data": {
            "text/plain": [
              "[1357,\n",
              " 1358,\n",
              " 1281,\n",
              " 66,\n",
              " 1185,\n",
              " 704,\n",
              " 1286,\n",
              " 889,\n",
              " 1085,\n",
              " 105,\n",
              " 641,\n",
              " 144,\n",
              " 583,\n",
              " 1041,\n",
              " 680,\n",
              " 1031,\n",
              " 974,\n",
              " 281,\n",
              " 1199,\n",
              " 339,\n",
              " 896,\n",
              " 565,\n",
              " 1234,\n",
              " 343,\n",
              " 804,\n",
              " 452,\n",
              " 832,\n",
              " 127,\n",
              " 1165,\n",
              " 768,\n",
              " 1265,\n",
              " 1147,\n",
              " 692,\n",
              " 738,\n",
              " 95,\n",
              " 1112,\n",
              " 242,\n",
              " 721,\n",
              " 1307,\n",
              " 246,\n",
              " 959,\n",
              " 892,\n",
              " 796,\n",
              " 1118,\n",
              " 345,\n",
              " 605,\n",
              " 967,\n",
              " 899,\n",
              " 1168,\n",
              " 493]"
            ]
          },
          "metadata": {
            "tags": []
          },
          "execution_count": 48
        }
      ]
    },
    {
      "cell_type": "markdown",
      "metadata": {
        "id": "1RsdlgTCuazo"
      },
      "source": [
        "# Real"
      ]
    },
    {
      "cell_type": "code",
      "metadata": {
        "id": "YFj4GcCrPuzJ",
        "colab": {
          "base_uri": "https://localhost:8080/"
        },
        "outputId": "2dc7ee65-7a74-4fc3-c3f5-dc24ff4747f2"
      },
      "source": [
        "with tf.Session(config=config) as sess:\n",
        "    sess.run(tf.global_variables_initializer())\n",
        "    \n",
        "\n",
        "    for epoch in range(1, args.num_epochs):\n",
        "\n",
        "        #train\n",
        "        cost_list = []\n",
        "        for train_input in tqdm(trainIterator,desc='epoch {}'.format(epoch),total=trainIterator.total_batch):\n",
        "            batch_usr, batch_seq, batch_pos, batch_neg = train_input            \n",
        "            auc, cost, _ = sess.run([model.auc, model.loss, model.train_op],\n",
        "                                {model.u: batch_usr, model.input_seq: batch_seq,  \n",
        "                                   model.pos: batch_pos, model.neg: batch_neg, model.is_training: True})\n",
        "            cost_list.append(cost)\n",
        "        mean_cost = np.mean(cost_list)\n",
        "        \n",
        "        #saver.save(sess, FLAGS.save_path)\n",
        "\n",
        "        if epoch % 20 == 0:\n",
        "          t1 = time.time() - t0\n",
        "          T += t1        \n",
        "          t_test = all_item_evaluate(model, item_dataset, all_items, args, sess)\n",
        "          print('epoch:%d, time: %f(s), test (NDCG@10: %.4f, HR@10: %.4f)' % ( epoch, T, t_test[0], t_test[1]))\n",
        "          f.write(str(epoch)+'epoch:'+' ' + '(NDCG@10,HR@10)' + ' ' + str(t_test) + '\\n')\n",
        "          f.flush()\n",
        "\n",
        "          t0 = time.time()\n",
        "        "
      ],
      "execution_count": null,
      "outputs": [
        {
          "output_type": "stream",
          "text": [
            "epoch 1: 100%|██████████| 364/364 [00:11<00:00, 31.77it/s]\n",
            "epoch 2: 100%|██████████| 364/364 [00:08<00:00, 43.20it/s]\n",
            "epoch 3: 100%|██████████| 364/364 [00:08<00:00, 41.75it/s]\n",
            "epoch 4: 100%|██████████| 364/364 [00:08<00:00, 42.33it/s]\n",
            "epoch 5: 100%|██████████| 364/364 [00:08<00:00, 42.18it/s]\n",
            "epoch 6: 100%|██████████| 364/364 [00:08<00:00, 40.94it/s]\n",
            "epoch 7: 100%|██████████| 364/364 [00:08<00:00, 42.17it/s]\n",
            "epoch 8: 100%|██████████| 364/364 [00:08<00:00, 42.58it/s]\n",
            "epoch 9: 100%|██████████| 364/364 [00:08<00:00, 41.74it/s]\n",
            "epoch 10: 100%|██████████| 364/364 [00:08<00:00, 42.70it/s]\n",
            "epoch 11: 100%|██████████| 364/364 [00:08<00:00, 42.30it/s]\n",
            "epoch 12: 100%|██████████| 364/364 [00:08<00:00, 42.71it/s]\n",
            "epoch 13: 100%|██████████| 364/364 [00:08<00:00, 42.09it/s]\n",
            "epoch 14: 100%|██████████| 364/364 [00:08<00:00, 42.00it/s]\n",
            "epoch 15: 100%|██████████| 364/364 [00:08<00:00, 41.89it/s]\n",
            "epoch 16: 100%|██████████| 364/364 [00:08<00:00, 41.84it/s]\n",
            "epoch 17: 100%|██████████| 364/364 [00:08<00:00, 43.01it/s]\n",
            "epoch 18: 100%|██████████| 364/364 [00:08<00:00, 42.68it/s]\n",
            "epoch 19: 100%|██████████| 364/364 [00:08<00:00, 42.41it/s]\n",
            "epoch 20: 100%|██████████| 364/364 [00:08<00:00, 42.38it/s]\n"
          ],
          "name": "stderr"
        },
        {
          "output_type": "stream",
          "text": [
            ".\n",
            ".\n",
            ".\n",
            ".\n",
            ".\n",
            ".\n",
            ".\n",
            ".\n",
            ".\n",
            ".\n",
            ".\n",
            ".\n",
            ".\n",
            ".\n",
            ".\n",
            ".\n",
            ".\n",
            ".\n",
            ".\n",
            ".\n",
            ".\n",
            ".\n",
            ".\n",
            ".\n",
            ".\n",
            ".\n",
            ".\n",
            ".\n",
            ".\n",
            ".\n",
            ".\n",
            ".\n",
            ".\n",
            ".\n",
            ".\n",
            ".\n",
            ".\n",
            ".\n",
            ".\n",
            ".\n",
            ".\n",
            ".\n",
            ".\n",
            ".\n",
            ".\n",
            ".\n",
            ".\n",
            ".\n",
            ".\n",
            ".\n",
            ".\n",
            ".\n",
            ".\n",
            ".\n",
            ".\n",
            ".\n",
            ".\n",
            ".\n",
            ".\n",
            ".\n",
            ".\n",
            ".\n",
            ".\n",
            ".\n",
            ".\n",
            ".\n",
            ".\n",
            ".\n",
            ".\n",
            ".\n",
            ".\n",
            ".\n",
            ".\n",
            ".\n",
            ".\n",
            ".\n",
            ".\n",
            ".\n",
            ".\n",
            ".\n",
            ".\n",
            ".\n",
            ".\n",
            ".\n",
            ".\n",
            ".\n",
            ".\n",
            ".\n",
            ".\n",
            ".\n",
            ".\n",
            ".\n",
            ".\n",
            ".\n",
            ".\n",
            ".\n",
            ".\n",
            ".\n",
            ".\n",
            ".\n"
          ],
          "name": "stdout"
        },
        {
          "output_type": "stream",
          "text": [
            "epoch 21:   1%|          | 4/364 [00:00<00:09, 38.91it/s]"
          ],
          "name": "stderr"
        },
        {
          "output_type": "stream",
          "text": [
            "epoch:20, time: 176.093315(s), test (NDCG@10: 0.1697, HR@10: 0.2947)\n"
          ],
          "name": "stdout"
        },
        {
          "output_type": "stream",
          "text": [
            "epoch 21: 100%|██████████| 364/364 [00:08<00:00, 42.02it/s]\n",
            "epoch 22: 100%|██████████| 364/364 [00:08<00:00, 41.93it/s]\n",
            "epoch 23: 100%|██████████| 364/364 [00:08<00:00, 42.34it/s]\n",
            "epoch 24: 100%|██████████| 364/364 [00:08<00:00, 41.76it/s]\n",
            "epoch 25: 100%|██████████| 364/364 [00:08<00:00, 42.90it/s]\n",
            "epoch 26: 100%|██████████| 364/364 [00:08<00:00, 42.24it/s]\n",
            "epoch 27: 100%|██████████| 364/364 [00:08<00:00, 41.95it/s]\n",
            "epoch 28: 100%|██████████| 364/364 [00:08<00:00, 42.45it/s]\n",
            "epoch 29: 100%|██████████| 364/364 [00:08<00:00, 41.89it/s]\n",
            "epoch 30: 100%|██████████| 364/364 [00:08<00:00, 41.77it/s]\n",
            "epoch 31: 100%|██████████| 364/364 [00:08<00:00, 42.49it/s]\n",
            "epoch 32: 100%|██████████| 364/364 [00:08<00:00, 41.89it/s]\n",
            "epoch 33: 100%|██████████| 364/364 [00:08<00:00, 42.03it/s]\n",
            "epoch 34: 100%|██████████| 364/364 [00:08<00:00, 42.06it/s]\n",
            "epoch 35: 100%|██████████| 364/364 [00:08<00:00, 42.36it/s]\n",
            "epoch 36: 100%|██████████| 364/364 [00:08<00:00, 41.68it/s]\n",
            "epoch 37: 100%|██████████| 364/364 [00:08<00:00, 42.33it/s]\n",
            "epoch 38: 100%|██████████| 364/364 [00:08<00:00, 40.70it/s]\n",
            "epoch 39: 100%|██████████| 364/364 [00:08<00:00, 41.35it/s]\n",
            "epoch 40: 100%|██████████| 364/364 [00:08<00:00, 41.77it/s]\n"
          ],
          "name": "stderr"
        },
        {
          "output_type": "stream",
          "text": [
            ".\n",
            ".\n",
            ".\n",
            ".\n",
            ".\n",
            ".\n",
            ".\n",
            ".\n",
            ".\n",
            ".\n",
            ".\n",
            ".\n",
            ".\n",
            ".\n",
            ".\n",
            ".\n",
            ".\n",
            ".\n",
            ".\n",
            ".\n",
            ".\n",
            ".\n",
            ".\n",
            ".\n",
            ".\n",
            ".\n",
            ".\n",
            ".\n",
            ".\n",
            ".\n",
            ".\n",
            ".\n",
            ".\n",
            ".\n",
            ".\n",
            ".\n",
            ".\n",
            ".\n",
            ".\n",
            ".\n",
            ".\n",
            ".\n",
            ".\n",
            ".\n",
            ".\n",
            ".\n",
            ".\n",
            ".\n",
            ".\n",
            ".\n",
            ".\n",
            ".\n",
            ".\n",
            ".\n",
            ".\n",
            ".\n",
            ".\n",
            ".\n",
            ".\n",
            ".\n",
            ".\n",
            ".\n",
            ".\n",
            ".\n",
            ".\n",
            ".\n",
            ".\n",
            ".\n",
            ".\n",
            ".\n",
            ".\n",
            ".\n",
            ".\n",
            ".\n",
            ".\n",
            ".\n",
            ".\n",
            ".\n",
            ".\n",
            ".\n",
            ".\n",
            ".\n",
            ".\n",
            ".\n",
            ".\n",
            ".\n",
            ".\n",
            ".\n",
            ".\n",
            ".\n",
            ".\n",
            ".\n",
            ".\n",
            ".\n",
            ".\n",
            ".\n",
            ".\n",
            ".\n",
            ".\n",
            ".\n"
          ],
          "name": "stdout"
        },
        {
          "output_type": "stream",
          "text": [
            "epoch 41:   1%|          | 4/364 [00:00<00:09, 38.70it/s]"
          ],
          "name": "stderr"
        },
        {
          "output_type": "stream",
          "text": [
            "epoch:40, time: 349.529890(s), test (NDCG@10: 0.1760, HR@10: 0.3053)\n"
          ],
          "name": "stdout"
        },
        {
          "output_type": "stream",
          "text": [
            "epoch 41: 100%|██████████| 364/364 [00:08<00:00, 41.88it/s]\n",
            "epoch 42: 100%|██████████| 364/364 [00:08<00:00, 41.23it/s]\n",
            "epoch 43: 100%|██████████| 364/364 [00:08<00:00, 40.99it/s]\n",
            "epoch 44: 100%|██████████| 364/364 [00:08<00:00, 42.55it/s]\n",
            "epoch 45: 100%|██████████| 364/364 [00:08<00:00, 42.12it/s]\n",
            "epoch 46: 100%|██████████| 364/364 [00:08<00:00, 42.02it/s]\n",
            "epoch 47: 100%|██████████| 364/364 [00:08<00:00, 40.65it/s]\n",
            "epoch 48: 100%|██████████| 364/364 [00:08<00:00, 42.02it/s]\n",
            "epoch 49: 100%|██████████| 364/364 [00:08<00:00, 42.40it/s]\n",
            "epoch 50: 100%|██████████| 364/364 [00:08<00:00, 42.08it/s]\n",
            "epoch 51: 100%|██████████| 364/364 [00:08<00:00, 42.76it/s]\n",
            "epoch 52: 100%|██████████| 364/364 [00:08<00:00, 41.80it/s]\n",
            "epoch 53: 100%|██████████| 364/364 [00:08<00:00, 41.60it/s]\n",
            "epoch 54: 100%|██████████| 364/364 [00:08<00:00, 41.71it/s]\n",
            "epoch 55: 100%|██████████| 364/364 [00:08<00:00, 42.17it/s]\n",
            "epoch 56: 100%|██████████| 364/364 [00:08<00:00, 41.53it/s]\n",
            "epoch 57: 100%|██████████| 364/364 [00:08<00:00, 43.42it/s]\n",
            "epoch 58: 100%|██████████| 364/364 [00:08<00:00, 42.39it/s]\n",
            "epoch 59: 100%|██████████| 364/364 [00:08<00:00, 42.28it/s]\n",
            "epoch 60: 100%|██████████| 364/364 [00:08<00:00, 42.60it/s]\n"
          ],
          "name": "stderr"
        },
        {
          "output_type": "stream",
          "text": [
            ".\n",
            ".\n",
            ".\n",
            ".\n",
            ".\n",
            ".\n",
            ".\n",
            ".\n",
            ".\n",
            ".\n",
            ".\n",
            ".\n",
            ".\n",
            ".\n",
            ".\n",
            ".\n",
            ".\n",
            ".\n",
            ".\n",
            ".\n",
            ".\n",
            ".\n",
            ".\n",
            ".\n",
            ".\n",
            ".\n",
            ".\n",
            ".\n",
            ".\n",
            ".\n",
            ".\n",
            ".\n",
            ".\n",
            ".\n",
            ".\n",
            ".\n",
            ".\n",
            ".\n",
            ".\n",
            ".\n",
            ".\n",
            ".\n",
            ".\n",
            ".\n",
            ".\n",
            ".\n",
            ".\n",
            ".\n",
            ".\n",
            ".\n",
            ".\n",
            ".\n",
            ".\n",
            ".\n",
            ".\n",
            ".\n",
            ".\n",
            ".\n",
            ".\n",
            ".\n",
            ".\n",
            ".\n",
            ".\n",
            ".\n",
            ".\n",
            ".\n",
            ".\n",
            ".\n",
            ".\n",
            ".\n",
            ".\n",
            ".\n",
            ".\n",
            ".\n",
            ".\n",
            ".\n",
            ".\n",
            ".\n",
            ".\n",
            ".\n",
            ".\n",
            ".\n",
            ".\n",
            ".\n",
            ".\n",
            ".\n",
            ".\n",
            ".\n",
            ".\n",
            ".\n",
            ".\n",
            ".\n",
            ".\n",
            ".\n",
            ".\n",
            ".\n",
            ".\n",
            ".\n",
            ".\n",
            ".\n"
          ],
          "name": "stdout"
        },
        {
          "output_type": "stream",
          "text": [
            "epoch 61:   1%|          | 4/364 [00:00<00:09, 37.36it/s]"
          ],
          "name": "stderr"
        },
        {
          "output_type": "stream",
          "text": [
            "epoch:60, time: 522.924010(s), test (NDCG@10: 0.1822, HR@10: 0.3144)\n"
          ],
          "name": "stdout"
        },
        {
          "output_type": "stream",
          "text": [
            "epoch 61: 100%|██████████| 364/364 [00:08<00:00, 41.85it/s]\n",
            "epoch 62: 100%|██████████| 364/364 [00:08<00:00, 42.46it/s]\n",
            "epoch 63: 100%|██████████| 364/364 [00:08<00:00, 42.14it/s]\n",
            "epoch 64: 100%|██████████| 364/364 [00:08<00:00, 40.83it/s]\n",
            "epoch 65: 100%|██████████| 364/364 [00:08<00:00, 41.30it/s]\n",
            "epoch 66: 100%|██████████| 364/364 [00:08<00:00, 41.67it/s]\n",
            "epoch 67: 100%|██████████| 364/364 [00:08<00:00, 41.84it/s]\n",
            "epoch 68: 100%|██████████| 364/364 [00:08<00:00, 42.04it/s]\n",
            "epoch 69: 100%|██████████| 364/364 [00:08<00:00, 42.01it/s]\n",
            "epoch 70: 100%|██████████| 364/364 [00:08<00:00, 42.39it/s]\n",
            "epoch 71: 100%|██████████| 364/364 [00:08<00:00, 41.66it/s]\n",
            "epoch 72: 100%|██████████| 364/364 [00:08<00:00, 42.25it/s]\n",
            "epoch 73: 100%|██████████| 364/364 [00:08<00:00, 42.24it/s]\n",
            "epoch 74: 100%|██████████| 364/364 [00:08<00:00, 41.38it/s]\n",
            "epoch 75: 100%|██████████| 364/364 [00:08<00:00, 41.58it/s]\n",
            "epoch 76: 100%|██████████| 364/364 [00:08<00:00, 42.29it/s]\n",
            "epoch 77: 100%|██████████| 364/364 [00:08<00:00, 40.90it/s]\n",
            "epoch 78: 100%|██████████| 364/364 [00:08<00:00, 41.46it/s]\n",
            "epoch 79: 100%|██████████| 364/364 [00:08<00:00, 41.22it/s]\n",
            "epoch 80: 100%|██████████| 364/364 [00:08<00:00, 41.31it/s]\n"
          ],
          "name": "stderr"
        },
        {
          "output_type": "stream",
          "text": [
            ".\n",
            ".\n",
            ".\n",
            ".\n",
            ".\n",
            ".\n",
            ".\n",
            ".\n",
            ".\n",
            ".\n",
            ".\n",
            ".\n",
            ".\n",
            ".\n",
            ".\n",
            ".\n",
            ".\n",
            ".\n",
            ".\n",
            ".\n",
            ".\n",
            ".\n",
            ".\n",
            ".\n",
            ".\n",
            ".\n",
            ".\n",
            ".\n",
            ".\n",
            ".\n",
            ".\n",
            ".\n",
            ".\n",
            ".\n",
            ".\n",
            ".\n",
            ".\n",
            ".\n",
            ".\n",
            ".\n",
            ".\n",
            ".\n",
            ".\n",
            ".\n",
            ".\n",
            ".\n",
            ".\n",
            ".\n",
            ".\n",
            ".\n",
            ".\n",
            ".\n",
            ".\n",
            ".\n",
            ".\n",
            ".\n",
            ".\n",
            ".\n",
            ".\n",
            ".\n",
            ".\n",
            ".\n",
            ".\n",
            ".\n",
            ".\n",
            ".\n",
            ".\n",
            ".\n",
            ".\n",
            ".\n",
            ".\n",
            ".\n",
            ".\n",
            ".\n",
            ".\n",
            ".\n",
            ".\n",
            ".\n",
            ".\n",
            ".\n",
            ".\n",
            ".\n",
            ".\n",
            ".\n",
            ".\n",
            ".\n",
            ".\n",
            ".\n",
            ".\n",
            ".\n",
            ".\n",
            ".\n",
            ".\n",
            ".\n",
            ".\n",
            ".\n",
            ".\n",
            ".\n",
            ".\n",
            ".\n"
          ],
          "name": "stdout"
        },
        {
          "output_type": "stream",
          "text": [
            "epoch 81:   1%|▏         | 5/364 [00:00<00:08, 43.96it/s]"
          ],
          "name": "stderr"
        },
        {
          "output_type": "stream",
          "text": [
            "epoch:80, time: 697.427458(s), test (NDCG@10: 0.1832, HR@10: 0.3164)\n"
          ],
          "name": "stdout"
        },
        {
          "output_type": "stream",
          "text": [
            "epoch 81: 100%|██████████| 364/364 [00:08<00:00, 42.68it/s]\n",
            "epoch 82: 100%|██████████| 364/364 [00:08<00:00, 42.00it/s]\n",
            "epoch 83: 100%|██████████| 364/364 [00:08<00:00, 41.27it/s]\n",
            "epoch 84: 100%|██████████| 364/364 [00:08<00:00, 42.30it/s]\n",
            "epoch 85: 100%|██████████| 364/364 [00:08<00:00, 41.81it/s]\n",
            "epoch 86: 100%|██████████| 364/364 [00:08<00:00, 42.29it/s]\n",
            "epoch 87: 100%|██████████| 364/364 [00:08<00:00, 41.72it/s]\n",
            "epoch 88: 100%|██████████| 364/364 [00:08<00:00, 41.52it/s]\n",
            "epoch 89: 100%|██████████| 364/364 [00:08<00:00, 41.60it/s]\n",
            "epoch 90: 100%|██████████| 364/364 [00:08<00:00, 41.88it/s]\n",
            "epoch 91: 100%|██████████| 364/364 [00:08<00:00, 42.07it/s]\n",
            "epoch 92: 100%|██████████| 364/364 [00:08<00:00, 41.89it/s]\n",
            "epoch 93: 100%|██████████| 364/364 [00:08<00:00, 42.04it/s]\n",
            "epoch 94: 100%|██████████| 364/364 [00:08<00:00, 42.38it/s]\n",
            "epoch 95: 100%|██████████| 364/364 [00:08<00:00, 42.77it/s]\n",
            "epoch 96: 100%|██████████| 364/364 [00:08<00:00, 42.12it/s]\n",
            "epoch 97: 100%|██████████| 364/364 [00:09<00:00, 40.06it/s]\n",
            "epoch 98: 100%|██████████| 364/364 [00:08<00:00, 41.57it/s]\n",
            "epoch 99: 100%|██████████| 364/364 [00:08<00:00, 42.12it/s]\n",
            "epoch 100: 100%|██████████| 364/364 [00:08<00:00, 42.62it/s]\n"
          ],
          "name": "stderr"
        },
        {
          "output_type": "stream",
          "text": [
            ".\n",
            ".\n",
            ".\n",
            ".\n",
            ".\n",
            ".\n",
            ".\n",
            ".\n",
            ".\n",
            ".\n",
            ".\n",
            ".\n",
            ".\n",
            ".\n",
            ".\n",
            ".\n",
            ".\n",
            ".\n",
            ".\n",
            ".\n",
            ".\n",
            ".\n",
            ".\n",
            ".\n",
            ".\n",
            ".\n",
            ".\n",
            ".\n",
            ".\n",
            ".\n",
            ".\n",
            ".\n",
            ".\n",
            ".\n",
            ".\n",
            ".\n",
            ".\n",
            ".\n",
            ".\n",
            ".\n",
            ".\n",
            ".\n",
            ".\n",
            ".\n",
            ".\n",
            ".\n",
            ".\n",
            ".\n",
            ".\n",
            ".\n",
            ".\n",
            ".\n",
            ".\n",
            ".\n",
            ".\n",
            ".\n",
            ".\n",
            ".\n",
            ".\n",
            ".\n",
            ".\n",
            ".\n",
            ".\n",
            ".\n",
            ".\n",
            ".\n",
            ".\n",
            ".\n",
            ".\n",
            ".\n",
            ".\n",
            ".\n",
            ".\n",
            ".\n",
            ".\n",
            ".\n",
            ".\n",
            ".\n",
            ".\n",
            ".\n",
            ".\n",
            ".\n",
            ".\n",
            ".\n",
            ".\n",
            ".\n",
            ".\n",
            ".\n",
            ".\n",
            ".\n",
            ".\n",
            ".\n",
            ".\n",
            ".\n",
            ".\n",
            ".\n",
            ".\n",
            ".\n",
            ".\n",
            ".\n"
          ],
          "name": "stdout"
        },
        {
          "output_type": "stream",
          "text": [
            "epoch 101:   1%|▏         | 5/364 [00:00<00:08, 42.50it/s]"
          ],
          "name": "stderr"
        },
        {
          "output_type": "stream",
          "text": [
            "epoch:100, time: 871.125472(s), test (NDCG@10: 0.1807, HR@10: 0.3145)\n"
          ],
          "name": "stdout"
        },
        {
          "output_type": "stream",
          "text": [
            "epoch 101: 100%|██████████| 364/364 [00:08<00:00, 41.67it/s]\n",
            "epoch 102: 100%|██████████| 364/364 [00:08<00:00, 41.65it/s]\n",
            "epoch 103: 100%|██████████| 364/364 [00:08<00:00, 42.53it/s]\n",
            "epoch 104: 100%|██████████| 364/364 [00:08<00:00, 41.13it/s]\n",
            "epoch 105: 100%|██████████| 364/364 [00:08<00:00, 42.07it/s]\n",
            "epoch 106: 100%|██████████| 364/364 [00:08<00:00, 42.05it/s]\n",
            "epoch 107: 100%|██████████| 364/364 [00:08<00:00, 40.70it/s]\n",
            "epoch 108: 100%|██████████| 364/364 [00:08<00:00, 42.13it/s]\n",
            "epoch 109: 100%|██████████| 364/364 [00:08<00:00, 41.80it/s]\n",
            "epoch 110: 100%|██████████| 364/364 [00:08<00:00, 42.71it/s]\n",
            "epoch 111: 100%|██████████| 364/364 [00:08<00:00, 41.18it/s]\n",
            "epoch 112: 100%|██████████| 364/364 [00:08<00:00, 41.90it/s]\n",
            "epoch 113: 100%|██████████| 364/364 [00:08<00:00, 42.51it/s]\n",
            "epoch 114: 100%|██████████| 364/364 [00:08<00:00, 42.72it/s]\n",
            "epoch 115: 100%|██████████| 364/364 [00:08<00:00, 42.22it/s]\n",
            "epoch 116: 100%|██████████| 364/364 [00:08<00:00, 41.67it/s]\n",
            "epoch 117: 100%|██████████| 364/364 [00:08<00:00, 42.13it/s]\n",
            "epoch 118: 100%|██████████| 364/364 [00:08<00:00, 42.38it/s]\n",
            "epoch 119: 100%|██████████| 364/364 [00:08<00:00, 41.71it/s]\n",
            "epoch 120: 100%|██████████| 364/364 [00:08<00:00, 41.49it/s]\n"
          ],
          "name": "stderr"
        },
        {
          "output_type": "stream",
          "text": [
            ".\n",
            ".\n",
            ".\n",
            ".\n",
            ".\n",
            ".\n",
            ".\n",
            ".\n",
            ".\n",
            ".\n",
            ".\n",
            ".\n",
            ".\n",
            ".\n",
            ".\n",
            ".\n",
            ".\n",
            ".\n",
            ".\n",
            ".\n",
            ".\n",
            ".\n",
            ".\n",
            ".\n",
            ".\n",
            ".\n",
            ".\n",
            ".\n",
            ".\n",
            ".\n",
            ".\n",
            ".\n",
            ".\n",
            ".\n",
            ".\n",
            ".\n",
            ".\n",
            ".\n",
            ".\n",
            ".\n",
            ".\n",
            ".\n",
            ".\n",
            ".\n",
            ".\n",
            ".\n",
            ".\n",
            ".\n",
            ".\n",
            ".\n",
            ".\n",
            ".\n",
            ".\n",
            ".\n",
            ".\n",
            ".\n",
            ".\n",
            ".\n",
            ".\n",
            ".\n",
            ".\n",
            ".\n",
            ".\n",
            ".\n",
            ".\n",
            ".\n",
            ".\n",
            ".\n",
            ".\n",
            ".\n",
            ".\n",
            ".\n",
            ".\n",
            ".\n",
            ".\n",
            ".\n",
            ".\n",
            ".\n",
            ".\n",
            ".\n",
            ".\n",
            ".\n",
            ".\n",
            ".\n",
            ".\n",
            ".\n",
            ".\n",
            ".\n",
            ".\n",
            ".\n",
            ".\n",
            ".\n",
            ".\n",
            ".\n",
            ".\n",
            ".\n",
            ".\n",
            ".\n",
            ".\n",
            ".\n"
          ],
          "name": "stdout"
        },
        {
          "output_type": "stream",
          "text": [
            "epoch 121:   1%|▏         | 5/364 [00:00<00:08, 43.96it/s]"
          ],
          "name": "stderr"
        },
        {
          "output_type": "stream",
          "text": [
            "epoch:120, time: 1044.891812(s), test (NDCG@10: 0.1835, HR@10: 0.3158)\n"
          ],
          "name": "stdout"
        },
        {
          "output_type": "stream",
          "text": [
            "epoch 121: 100%|██████████| 364/364 [00:08<00:00, 41.19it/s]\n",
            "epoch 122: 100%|██████████| 364/364 [00:08<00:00, 40.89it/s]\n",
            "epoch 123: 100%|██████████| 364/364 [00:08<00:00, 42.73it/s]\n",
            "epoch 124: 100%|██████████| 364/364 [00:08<00:00, 41.84it/s]\n",
            "epoch 125: 100%|██████████| 364/364 [00:08<00:00, 41.39it/s]\n",
            "epoch 126: 100%|██████████| 364/364 [00:08<00:00, 42.68it/s]\n",
            "epoch 127: 100%|██████████| 364/364 [00:08<00:00, 42.05it/s]\n",
            "epoch 128: 100%|██████████| 364/364 [00:08<00:00, 41.76it/s]\n",
            "epoch 129: 100%|██████████| 364/364 [00:08<00:00, 41.99it/s]\n",
            "epoch 130: 100%|██████████| 364/364 [00:08<00:00, 42.41it/s]\n",
            "epoch 131: 100%|██████████| 364/364 [00:08<00:00, 41.65it/s]\n",
            "epoch 132: 100%|██████████| 364/364 [00:08<00:00, 41.47it/s]\n",
            "epoch 133: 100%|██████████| 364/364 [00:08<00:00, 42.96it/s]\n",
            "epoch 134: 100%|██████████| 364/364 [00:08<00:00, 42.02it/s]\n",
            "epoch 135: 100%|██████████| 364/364 [00:08<00:00, 40.82it/s]\n",
            "epoch 136: 100%|██████████| 364/364 [00:08<00:00, 41.94it/s]\n",
            "epoch 137: 100%|██████████| 364/364 [00:08<00:00, 41.56it/s]\n",
            "epoch 138: 100%|██████████| 364/364 [00:08<00:00, 42.70it/s]\n",
            "epoch 139: 100%|██████████| 364/364 [00:08<00:00, 41.36it/s]\n",
            "epoch 140: 100%|██████████| 364/364 [00:08<00:00, 41.79it/s]\n"
          ],
          "name": "stderr"
        },
        {
          "output_type": "stream",
          "text": [
            ".\n",
            ".\n",
            ".\n",
            ".\n",
            ".\n",
            ".\n",
            ".\n",
            ".\n",
            ".\n",
            ".\n",
            ".\n",
            ".\n",
            ".\n",
            ".\n",
            ".\n",
            ".\n",
            ".\n",
            ".\n",
            ".\n",
            ".\n",
            ".\n",
            ".\n",
            ".\n",
            ".\n",
            ".\n",
            ".\n",
            ".\n",
            ".\n",
            ".\n",
            ".\n",
            ".\n",
            ".\n",
            ".\n",
            ".\n",
            ".\n",
            ".\n",
            ".\n",
            ".\n",
            ".\n",
            ".\n",
            ".\n",
            ".\n",
            ".\n",
            ".\n",
            ".\n",
            ".\n",
            ".\n",
            ".\n",
            ".\n",
            ".\n",
            ".\n",
            ".\n",
            ".\n",
            ".\n",
            ".\n",
            ".\n",
            ".\n",
            ".\n",
            ".\n",
            ".\n",
            ".\n",
            ".\n",
            ".\n",
            ".\n",
            ".\n",
            ".\n",
            ".\n",
            ".\n",
            ".\n",
            ".\n",
            ".\n",
            ".\n",
            ".\n",
            ".\n",
            ".\n",
            ".\n",
            ".\n",
            ".\n",
            ".\n",
            ".\n",
            ".\n",
            ".\n",
            ".\n",
            ".\n",
            ".\n",
            ".\n",
            ".\n",
            ".\n",
            ".\n",
            ".\n",
            ".\n",
            ".\n",
            ".\n",
            ".\n",
            ".\n",
            ".\n",
            ".\n",
            ".\n",
            ".\n",
            ".\n"
          ],
          "name": "stdout"
        },
        {
          "output_type": "stream",
          "text": [
            "epoch 141:   1%|▏         | 5/364 [00:00<00:08, 43.10it/s]"
          ],
          "name": "stderr"
        },
        {
          "output_type": "stream",
          "text": [
            "epoch:140, time: 1218.903696(s), test (NDCG@10: 0.1907, HR@10: 0.3222)\n"
          ],
          "name": "stdout"
        },
        {
          "output_type": "stream",
          "text": [
            "epoch 141: 100%|██████████| 364/364 [00:08<00:00, 41.51it/s]\n",
            "epoch 142: 100%|██████████| 364/364 [00:08<00:00, 42.48it/s]\n",
            "epoch 143: 100%|██████████| 364/364 [00:08<00:00, 42.12it/s]\n",
            "epoch 144: 100%|██████████| 364/364 [00:08<00:00, 42.33it/s]\n",
            "epoch 145: 100%|██████████| 364/364 [00:08<00:00, 42.64it/s]\n",
            "epoch 146: 100%|██████████| 364/364 [00:08<00:00, 41.59it/s]\n",
            "epoch 147: 100%|██████████| 364/364 [00:08<00:00, 41.99it/s]\n",
            "epoch 148: 100%|██████████| 364/364 [00:08<00:00, 42.19it/s]\n",
            "epoch 149: 100%|██████████| 364/364 [00:08<00:00, 42.43it/s]\n",
            "epoch 150: 100%|██████████| 364/364 [00:08<00:00, 41.51it/s]\n",
            "epoch 151: 100%|██████████| 364/364 [00:08<00:00, 42.46it/s]\n",
            "epoch 152: 100%|██████████| 364/364 [00:08<00:00, 42.64it/s]\n",
            "epoch 153: 100%|██████████| 364/364 [00:08<00:00, 42.04it/s]\n",
            "epoch 154: 100%|██████████| 364/364 [00:08<00:00, 42.57it/s]\n",
            "epoch 155: 100%|██████████| 364/364 [00:08<00:00, 41.37it/s]\n",
            "epoch 156: 100%|██████████| 364/364 [00:08<00:00, 41.03it/s]\n",
            "epoch 157: 100%|██████████| 364/364 [00:08<00:00, 41.29it/s]\n",
            "epoch 158: 100%|██████████| 364/364 [00:08<00:00, 41.02it/s]\n",
            "epoch 159: 100%|██████████| 364/364 [00:08<00:00, 42.69it/s]\n",
            "epoch 160: 100%|██████████| 364/364 [00:08<00:00, 41.57it/s]\n"
          ],
          "name": "stderr"
        },
        {
          "output_type": "stream",
          "text": [
            ".\n",
            ".\n",
            ".\n",
            ".\n",
            ".\n",
            ".\n",
            ".\n",
            ".\n",
            ".\n",
            ".\n",
            ".\n",
            ".\n",
            ".\n",
            ".\n",
            ".\n",
            ".\n",
            ".\n",
            ".\n",
            ".\n",
            ".\n",
            ".\n",
            ".\n",
            ".\n",
            ".\n",
            ".\n",
            ".\n",
            ".\n",
            ".\n",
            ".\n",
            ".\n",
            ".\n",
            ".\n",
            ".\n",
            ".\n",
            ".\n",
            ".\n",
            ".\n",
            ".\n",
            ".\n",
            ".\n",
            ".\n",
            ".\n",
            ".\n",
            ".\n",
            ".\n",
            ".\n",
            ".\n",
            ".\n",
            ".\n",
            ".\n",
            ".\n",
            ".\n",
            ".\n",
            ".\n",
            ".\n",
            ".\n",
            ".\n",
            ".\n",
            ".\n",
            ".\n",
            ".\n",
            ".\n",
            ".\n",
            ".\n",
            ".\n",
            ".\n",
            ".\n",
            ".\n",
            ".\n",
            ".\n",
            ".\n",
            ".\n",
            ".\n",
            ".\n",
            ".\n",
            ".\n",
            ".\n",
            ".\n",
            ".\n",
            ".\n",
            ".\n",
            ".\n",
            ".\n",
            ".\n",
            ".\n",
            ".\n",
            ".\n",
            ".\n",
            ".\n",
            ".\n",
            ".\n",
            ".\n",
            ".\n",
            ".\n",
            ".\n",
            ".\n",
            ".\n",
            ".\n",
            ".\n",
            ".\n"
          ],
          "name": "stdout"
        },
        {
          "output_type": "stream",
          "text": [
            "epoch 161:   1%|▏         | 5/364 [00:00<00:08, 42.87it/s]"
          ],
          "name": "stderr"
        },
        {
          "output_type": "stream",
          "text": [
            "epoch:160, time: 1392.444730(s), test (NDCG@10: 0.1851, HR@10: 0.3168)\n"
          ],
          "name": "stdout"
        },
        {
          "output_type": "stream",
          "text": [
            "epoch 161: 100%|██████████| 364/364 [00:08<00:00, 41.60it/s]\n",
            "epoch 162: 100%|██████████| 364/364 [00:08<00:00, 42.23it/s]\n",
            "epoch 163: 100%|██████████| 364/364 [00:08<00:00, 42.19it/s]\n",
            "epoch 164: 100%|██████████| 364/364 [00:08<00:00, 42.21it/s]\n",
            "epoch 165: 100%|██████████| 364/364 [00:08<00:00, 42.19it/s]\n",
            "epoch 166: 100%|██████████| 364/364 [00:08<00:00, 41.74it/s]\n",
            "epoch 167: 100%|██████████| 364/364 [00:08<00:00, 41.51it/s]\n",
            "epoch 168: 100%|██████████| 364/364 [00:08<00:00, 42.02it/s]\n",
            "epoch 169: 100%|██████████| 364/364 [00:08<00:00, 41.88it/s]\n",
            "epoch 170: 100%|██████████| 364/364 [00:08<00:00, 42.40it/s]\n",
            "epoch 171: 100%|██████████| 364/364 [00:08<00:00, 42.16it/s]\n",
            "epoch 172: 100%|██████████| 364/364 [00:08<00:00, 41.91it/s]\n",
            "epoch 173: 100%|██████████| 364/364 [00:08<00:00, 43.01it/s]\n",
            "epoch 174: 100%|██████████| 364/364 [00:08<00:00, 41.61it/s]\n",
            "epoch 175: 100%|██████████| 364/364 [00:08<00:00, 42.27it/s]\n",
            "epoch 176: 100%|██████████| 364/364 [00:08<00:00, 41.03it/s]\n",
            "epoch 177: 100%|██████████| 364/364 [00:08<00:00, 41.54it/s]\n",
            "epoch 178: 100%|██████████| 364/364 [00:08<00:00, 41.50it/s]\n",
            "epoch 179: 100%|██████████| 364/364 [00:08<00:00, 42.55it/s]\n",
            "epoch 180: 100%|██████████| 364/364 [00:08<00:00, 42.63it/s]\n"
          ],
          "name": "stderr"
        },
        {
          "output_type": "stream",
          "text": [
            ".\n",
            ".\n",
            ".\n",
            ".\n",
            ".\n",
            ".\n",
            ".\n",
            ".\n",
            ".\n",
            ".\n",
            ".\n",
            ".\n",
            ".\n",
            ".\n",
            ".\n",
            ".\n",
            ".\n",
            ".\n",
            ".\n",
            ".\n",
            ".\n",
            ".\n",
            ".\n",
            ".\n",
            ".\n",
            ".\n",
            ".\n",
            ".\n",
            ".\n",
            ".\n",
            ".\n",
            ".\n",
            ".\n",
            ".\n",
            ".\n",
            ".\n",
            ".\n",
            ".\n",
            ".\n",
            ".\n",
            ".\n",
            ".\n",
            ".\n",
            ".\n",
            ".\n",
            ".\n",
            ".\n",
            ".\n",
            ".\n",
            ".\n",
            ".\n",
            ".\n",
            ".\n",
            ".\n",
            ".\n",
            ".\n",
            ".\n",
            ".\n",
            ".\n",
            ".\n",
            ".\n",
            ".\n",
            ".\n",
            ".\n",
            ".\n",
            ".\n",
            ".\n",
            ".\n",
            ".\n",
            ".\n",
            ".\n",
            ".\n",
            ".\n",
            ".\n",
            ".\n",
            ".\n",
            ".\n",
            ".\n",
            ".\n",
            ".\n",
            ".\n",
            ".\n",
            ".\n",
            ".\n",
            ".\n",
            ".\n",
            ".\n",
            ".\n",
            ".\n",
            ".\n",
            ".\n",
            ".\n",
            ".\n",
            ".\n",
            ".\n",
            ".\n",
            ".\n",
            ".\n",
            ".\n",
            ".\n"
          ],
          "name": "stdout"
        },
        {
          "output_type": "stream",
          "text": [
            "epoch 181:   1%|▏         | 5/364 [00:00<00:08, 43.13it/s]"
          ],
          "name": "stderr"
        },
        {
          "output_type": "stream",
          "text": [
            "epoch:180, time: 1565.825170(s), test (NDCG@10: 0.1839, HR@10: 0.3159)\n"
          ],
          "name": "stdout"
        },
        {
          "output_type": "stream",
          "text": [
            "epoch 181: 100%|██████████| 364/364 [00:08<00:00, 41.75it/s]\n",
            "epoch 182: 100%|██████████| 364/364 [00:08<00:00, 41.50it/s]\n",
            "epoch 183: 100%|██████████| 364/364 [00:08<00:00, 41.60it/s]\n",
            "epoch 184: 100%|██████████| 364/364 [00:09<00:00, 40.42it/s]\n",
            "epoch 185: 100%|██████████| 364/364 [00:08<00:00, 43.07it/s]\n",
            "epoch 186: 100%|██████████| 364/364 [00:08<00:00, 42.07it/s]\n",
            "epoch 187: 100%|██████████| 364/364 [00:08<00:00, 42.47it/s]\n",
            "epoch 188: 100%|██████████| 364/364 [00:08<00:00, 42.43it/s]\n",
            "epoch 189: 100%|██████████| 364/364 [00:08<00:00, 42.61it/s]\n",
            "epoch 190: 100%|██████████| 364/364 [00:08<00:00, 40.96it/s]\n",
            "epoch 191: 100%|██████████| 364/364 [00:08<00:00, 42.01it/s]\n",
            "epoch 192: 100%|██████████| 364/364 [00:08<00:00, 42.50it/s]\n",
            "epoch 193: 100%|██████████| 364/364 [00:08<00:00, 42.65it/s]\n",
            "epoch 194: 100%|██████████| 364/364 [00:08<00:00, 42.27it/s]\n",
            "epoch 195: 100%|██████████| 364/364 [00:08<00:00, 41.89it/s]\n",
            "epoch 196: 100%|██████████| 364/364 [00:08<00:00, 42.85it/s]\n",
            "epoch 197: 100%|██████████| 364/364 [00:08<00:00, 42.51it/s]\n",
            "epoch 198: 100%|██████████| 364/364 [00:08<00:00, 42.53it/s]\n",
            "epoch 199: 100%|██████████| 364/364 [00:08<00:00, 42.21it/s]\n",
            "epoch 200: 100%|██████████| 364/364 [00:08<00:00, 41.45it/s]\n"
          ],
          "name": "stderr"
        },
        {
          "output_type": "stream",
          "text": [
            ".\n",
            ".\n",
            ".\n",
            ".\n",
            ".\n",
            ".\n",
            ".\n",
            ".\n",
            ".\n",
            ".\n",
            ".\n",
            ".\n",
            ".\n",
            ".\n",
            ".\n",
            ".\n",
            ".\n",
            ".\n",
            ".\n",
            ".\n",
            ".\n",
            ".\n",
            ".\n",
            ".\n",
            ".\n",
            ".\n",
            ".\n",
            ".\n",
            ".\n",
            ".\n",
            ".\n",
            ".\n",
            ".\n",
            ".\n",
            ".\n",
            ".\n",
            ".\n",
            ".\n",
            ".\n",
            ".\n",
            ".\n",
            ".\n",
            ".\n",
            ".\n",
            ".\n",
            ".\n",
            ".\n",
            ".\n",
            ".\n",
            ".\n",
            ".\n",
            ".\n",
            ".\n",
            ".\n",
            ".\n",
            ".\n",
            ".\n",
            ".\n",
            ".\n",
            ".\n",
            ".\n",
            ".\n",
            ".\n",
            ".\n",
            ".\n",
            ".\n",
            ".\n",
            ".\n",
            ".\n",
            ".\n",
            ".\n",
            ".\n",
            ".\n",
            ".\n",
            ".\n",
            ".\n",
            ".\n",
            ".\n",
            ".\n",
            ".\n",
            ".\n",
            ".\n",
            ".\n",
            ".\n",
            ".\n",
            ".\n",
            ".\n",
            ".\n",
            ".\n",
            ".\n",
            ".\n",
            ".\n",
            ".\n",
            ".\n",
            ".\n",
            ".\n",
            ".\n",
            ".\n",
            ".\n",
            ".\n",
            "epoch:200, time: 1738.904731(s), test (NDCG@10: 0.1783, HR@10: 0.3099)\n"
          ],
          "name": "stdout"
        }
      ]
    }
  ]
}